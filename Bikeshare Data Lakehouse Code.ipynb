{
 "cells": [
  {
   "cell_type": "markdown",
   "metadata": {
    "application/vnd.databricks.v1+cell": {
     "cellMetadata": {},
     "inputWidgets": {},
     "nuid": "36a89550-b133-4499-8478-b0058c629595",
     "showTitle": false,
     "tableResultSettingsMap": {},
     "title": ""
    }
   },
   "source": [
    "# Impport Data from CSV into Delta format"
   ]
  },
  {
   "cell_type": "markdown",
   "metadata": {
    "application/vnd.databricks.v1+cell": {
     "cellMetadata": {},
     "inputWidgets": {},
     "nuid": "0a182a63-6b0b-45f5-8ae2-69972045a7f4",
     "showTitle": false,
     "tableResultSettingsMap": {},
     "title": ""
    }
   },
   "source": [
    "## Payments"
   ]
  },
  {
   "cell_type": "code",
   "execution_count": 0,
   "metadata": {
    "application/vnd.databricks.v1+cell": {
     "cellMetadata": {
      "byteLimit": 2048000,
      "rowLimit": 10000
     },
     "inputWidgets": {},
     "nuid": "e7ccc122-a33f-4887-b08f-cfc4f3b2bc46",
     "showTitle": false,
     "tableResultSettingsMap": {},
     "title": ""
    }
   },
   "outputs": [],
   "source": [
    "# Read payment csv file into a dataframe\n",
    "df = spark.read.format(\"csv\")\\\n",
    "    .option(\"header\", \"false\")\\\n",
    "    .load(\"/Volumes/research_databricks_workspace/default/bikeshare/payments.csv\")\\\n",
    "    .toDF(\"payment_id\", \"date\", \"amount\", \"rider_id\")\n",
    "\n",
    "# create a delta table from the dataframe\n",
    "df.write.format(\"delta\").mode(\"overwrite\").saveAsTable(\"payment_table\")"
   ]
  },
  {
   "cell_type": "code",
   "execution_count": 0,
   "metadata": {
    "application/vnd.databricks.v1+cell": {
     "cellMetadata": {
      "byteLimit": 2048000,
      "implicitDf": true,
      "rowLimit": 10000
     },
     "inputWidgets": {},
     "nuid": "04afd90e-1898-4a29-abbc-c1d83fa30713",
     "showTitle": false,
     "tableResultSettingsMap": {},
     "title": ""
    }
   },
   "outputs": [
    {
     "output_type": "display_data",
     "data": {
      "text/html": [
       "<style scoped>\n",
       "  .table-result-container {\n",
       "    max-height: 300px;\n",
       "    overflow: auto;\n",
       "  }\n",
       "  table, th, td {\n",
       "    border: 1px solid black;\n",
       "    border-collapse: collapse;\n",
       "  }\n",
       "  th, td {\n",
       "    padding: 5px;\n",
       "  }\n",
       "  th {\n",
       "    text-align: left;\n",
       "  }\n",
       "</style><div class='table-result-container'><table class='table-result'><thead style='background-color: white'><tr><th>path</th><th>metrics</th></tr></thead><tbody><tr><td>abfss://unity-catalog-storage@dbstorageu5dkpujmn7ulo.dfs.core.windows.net/4006262863301269/__unitystorage/catalogs/ffab9ea6-89fc-42e2-aa27-831965571766/tables/7a7829a5-0545-4dcc-b4f4-175bf86c0a3e</td><td>List(0, 0, List(null, null, 0.0, 0, 0), List(null, null, 0.0, 0, 0), 109, List(minCubeSize(107374182400), List(0, 0), List(109, 17780577), 0, List(0, 0), 0, null), null, 0, 0, 109, 109, false, 0, 0, 1732438471056, 1732438473759, 16, 0, null, List(0, 0), 4, 4, 0, 0, null)</td></tr></tbody></table></div>"
      ]
     },
     "metadata": {
      "application/vnd.databricks.v1+output": {
       "addedWidgets": {},
       "aggData": [],
       "aggError": "",
       "aggOverflow": false,
       "aggSchema": [],
       "aggSeriesLimitReached": false,
       "aggType": "",
       "arguments": {},
       "columnCustomDisplayInfos": {},
       "data": [
        [
         "abfss://unity-catalog-storage@dbstorageu5dkpujmn7ulo.dfs.core.windows.net/4006262863301269/__unitystorage/catalogs/ffab9ea6-89fc-42e2-aa27-831965571766/tables/7a7829a5-0545-4dcc-b4f4-175bf86c0a3e",
         [
          0,
          0,
          [
           null,
           null,
           0.0,
           0,
           0
          ],
          [
           null,
           null,
           0.0,
           0,
           0
          ],
          109,
          [
           "minCubeSize(107374182400)",
           [
            0,
            0
           ],
           [
            109,
            17780577
           ],
           0,
           [
            0,
            0
           ],
           0,
           null
          ],
          null,
          0,
          0,
          109,
          109,
          false,
          0,
          0,
          1732438471056,
          1732438473759,
          16,
          0,
          null,
          [
           0,
           0
          ],
          4,
          4,
          0,
          0,
          null
         ]
        ]
       ],
       "datasetInfos": [],
       "dbfsResultPath": null,
       "isJsonSchema": true,
       "metadata": {
        "createTempViewForImplicitDf": true,
        "dataframeName": "_sqldf",
        "executionCount": 53
       },
       "overflow": false,
       "plotOptions": {
        "customPlotOptions": {},
        "displayType": "table",
        "pivotAggregation": null,
        "pivotColumns": null,
        "xColumns": null,
        "yColumns": null
       },
       "removedWidgets": [],
       "schema": [
        {
         "metadata": "{}",
         "name": "path",
         "type": "\"string\""
        },
        {
         "metadata": "{}",
         "name": "metrics",
         "type": "{\"type\":\"struct\",\"fields\":[{\"name\":\"numFilesAdded\",\"type\":\"long\",\"nullable\":false,\"metadata\":{}},{\"name\":\"numFilesRemoved\",\"type\":\"long\",\"nullable\":false,\"metadata\":{}},{\"name\":\"filesAdded\",\"type\":{\"type\":\"struct\",\"fields\":[{\"name\":\"min\",\"type\":\"long\",\"nullable\":true,\"metadata\":{}},{\"name\":\"max\",\"type\":\"long\",\"nullable\":true,\"metadata\":{}},{\"name\":\"avg\",\"type\":\"double\",\"nullable\":false,\"metadata\":{}},{\"name\":\"totalFiles\",\"type\":\"long\",\"nullable\":false,\"metadata\":{}},{\"name\":\"totalSize\",\"type\":\"long\",\"nullable\":false,\"metadata\":{}}]},\"nullable\":true,\"metadata\":{}},{\"name\":\"filesRemoved\",\"type\":{\"type\":\"struct\",\"fields\":[{\"name\":\"min\",\"type\":\"long\",\"nullable\":true,\"metadata\":{}},{\"name\":\"max\",\"type\":\"long\",\"nullable\":true,\"metadata\":{}},{\"name\":\"avg\",\"type\":\"double\",\"nullable\":false,\"metadata\":{}},{\"name\":\"totalFiles\",\"type\":\"long\",\"nullable\":false,\"metadata\":{}},{\"name\":\"totalSize\",\"type\":\"long\",\"nullable\":false,\"metadata\":{}}]},\"nullable\":true,\"metadata\":{}},{\"name\":\"partitionsOptimized\",\"type\":\"long\",\"nullable\":false,\"metadata\":{}},{\"name\":\"zOrderStats\",\"type\":{\"type\":\"struct\",\"fields\":[{\"name\":\"strategyName\",\"type\":\"string\",\"nullable\":true,\"metadata\":{}},{\"name\":\"inputCubeFiles\",\"type\":{\"type\":\"struct\",\"fields\":[{\"name\":\"num\",\"type\":\"long\",\"nullable\":false,\"metadata\":{}},{\"name\":\"size\",\"type\":\"long\",\"nullable\":false,\"metadata\":{}}]},\"nullable\":true,\"metadata\":{}},{\"name\":\"inputOtherFiles\",\"type\":{\"type\":\"struct\",\"fields\":[{\"name\":\"num\",\"type\":\"long\",\"nullable\":false,\"metadata\":{}},{\"name\":\"size\",\"type\":\"long\",\"nullable\":false,\"metadata\":{}}]},\"nullable\":true,\"metadata\":{}},{\"name\":\"inputNumCubes\",\"type\":\"long\",\"nullable\":false,\"metadata\":{}},{\"name\":\"mergedFiles\",\"type\":{\"type\":\"struct\",\"fields\":[{\"name\":\"num\",\"type\":\"long\",\"nullable\":false,\"metadata\":{}},{\"name\":\"size\",\"type\":\"long\",\"nullable\":false,\"metadata\":{}}]},\"nullable\":true,\"metadata\":{}},{\"name\":\"numOutputCubes\",\"type\":\"long\",\"nullable\":false,\"metadata\":{}},{\"name\":\"mergedNumCubes\",\"type\":\"long\",\"nullable\":true,\"metadata\":{}}]},\"nullable\":true,\"metadata\":{}},{\"name\":\"clusteringStats\",\"type\":{\"type\":\"struct\",\"fields\":[{\"name\":\"inputZCubeFiles\",\"type\":{\"type\":\"struct\",\"fields\":[{\"name\":\"numFiles\",\"type\":\"long\",\"nullable\":false,\"metadata\":{}},{\"name\":\"size\",\"type\":\"long\",\"nullable\":false,\"metadata\":{}}]},\"nullable\":true,\"metadata\":{}},{\"name\":\"inputOtherFiles\",\"type\":{\"type\":\"struct\",\"fields\":[{\"name\":\"numFiles\",\"type\":\"long\",\"nullable\":false,\"metadata\":{}},{\"name\":\"size\",\"type\":\"long\",\"nullable\":false,\"metadata\":{}}]},\"nullable\":true,\"metadata\":{}},{\"name\":\"inputNumZCubes\",\"type\":\"long\",\"nullable\":false,\"metadata\":{}},{\"name\":\"mergedFiles\",\"type\":{\"type\":\"struct\",\"fields\":[{\"name\":\"numFiles\",\"type\":\"long\",\"nullable\":false,\"metadata\":{}},{\"name\":\"size\",\"type\":\"long\",\"nullable\":false,\"metadata\":{}}]},\"nullable\":true,\"metadata\":{}},{\"name\":\"numOutputZCubes\",\"type\":\"long\",\"nullable\":false,\"metadata\":{}}]},\"nullable\":true,\"metadata\":{}},{\"name\":\"numBins\",\"type\":\"long\",\"nullable\":false,\"metadata\":{}},{\"name\":\"numBatches\",\"type\":\"long\",\"nullable\":false,\"metadata\":{}},{\"name\":\"totalConsideredFiles\",\"type\":\"long\",\"nullable\":false,\"metadata\":{}},{\"name\":\"totalFilesSkipped\",\"type\":\"long\",\"nullable\":false,\"metadata\":{}},{\"name\":\"preserveInsertionOrder\",\"type\":\"boolean\",\"nullable\":false,\"metadata\":{}},{\"name\":\"numFilesSkippedToReduceWriteAmplification\",\"type\":\"long\",\"nullable\":false,\"metadata\":{}},{\"name\":\"numBytesSkippedToReduceWriteAmplification\",\"type\":\"long\",\"nullable\":false,\"metadata\":{}},{\"name\":\"startTimeMs\",\"type\":\"long\",\"nullable\":false,\"metadata\":{}},{\"name\":\"endTimeMs\",\"type\":\"long\",\"nullable\":false,\"metadata\":{}},{\"name\":\"totalClusterParallelism\",\"type\":\"long\",\"nullable\":false,\"metadata\":{}},{\"name\":\"totalScheduledTasks\",\"type\":\"long\",\"nullable\":false,\"metadata\":{}},{\"name\":\"autoCompactParallelismStats\",\"type\":{\"type\":\"struct\",\"fields\":[{\"name\":\"maxClusterActiveParallelism\",\"type\":\"long\",\"nullable\":true,\"metadata\":{}},{\"name\":\"minClusterActiveParallelism\",\"type\":\"long\",\"nullable\":true,\"metadata\":{}},{\"name\":\"maxSessionActiveParallelism\",\"type\":\"long\",\"nullable\":true,\"metadata\":{}},{\"name\":\"minSessionActiveParallelism\",\"type\":\"long\",\"nullable\":true,\"metadata\":{}}]},\"nullable\":true,\"metadata\":{}},{\"name\":\"deletionVectorStats\",\"type\":{\"type\":\"struct\",\"fields\":[{\"name\":\"numDeletionVectorsRemoved\",\"type\":\"long\",\"nullable\":false,\"metadata\":{}},{\"name\":\"numDeletionVectorRowsRemoved\",\"type\":\"long\",\"nullable\":false,\"metadata\":{}}]},\"nullable\":true,\"metadata\":{}},{\"name\":\"numTableColumns\",\"type\":\"long\",\"nullable\":false,\"metadata\":{}},{\"name\":\"numTableColumnsWithStats\",\"type\":\"long\",\"nullable\":false,\"metadata\":{}},{\"name\":\"totalTaskExecutionTimeMs\",\"type\":\"long\",\"nullable\":false,\"metadata\":{}},{\"name\":\"skippedArchivedFiles\",\"type\":\"long\",\"nullable\":false,\"metadata\":{}},{\"name\":\"clusteringMetrics\",\"type\":{\"type\":\"struct\",\"fields\":[{\"name\":\"sizeOfTableInBytesBeforeLazyClustering\",\"type\":\"long\",\"nullable\":false,\"metadata\":{}},{\"name\":\"isNewMetadataCreated\",\"type\":\"boolean\",\"nullable\":false,\"metadata\":{}},{\"name\":\"isPOTriggered\",\"type\":\"boolean\",\"nullable\":false,\"metadata\":{}},{\"name\":\"numFilesSkippedWithoutStats\",\"type\":\"long\",\"nullable\":false,\"metadata\":{}},{\"name\":\"numFilesClassifiedToIntermediateNodes\",\"type\":\"long\",\"nullable\":false,\"metadata\":{}},{\"name\":\"sizeOfFilesClassifiedToIntermediateNodesInBytes\",\"type\":\"long\",\"nullable\":false,\"metadata\":{}},{\"name\":\"logicalSizeOfFilesClassifiedToIntermediateNodesInBytes\",\"type\":\"long\",\"nullable\":false,\"metadata\":{}},{\"name\":\"numFilesClassifiedToLeafNodes\",\"type\":\"long\",\"nullable\":false,\"metadata\":{}},{\"name\":\"sizeOfFilesClassifiedToLeafNodesInBytes\",\"type\":\"long\",\"nullable\":false,\"metadata\":{}},{\"name\":\"logicalSizeOfFilesClassifiedToLeafNodesInBytes\",\"type\":\"long\",\"nullable\":false,\"metadata\":{}},{\"name\":\"numThreadsForClassifier\",\"type\":\"integer\",\"nullable\":true,\"metadata\":{}},{\"name\":\"clusterThresholdStrategy\",\"type\":\"string\",\"nullable\":true,\"metadata\":{}},{\"name\":\"minFileSize\",\"type\":\"long\",\"nullable\":false,\"metadata\":{}},{\"name\":\"maxFileSize\",\"type\":\"long\",\"nullable\":false,\"metadata\":{}},{\"name\":\"nodeMinNumFilesToCompact\",\"type\":\"long\",\"nullable\":false,\"metadata\":{}},{\"name\":\"numIdealFiles\",\"type\":\"long\",\"nullable\":false,\"metadata\":{}},{\"name\":\"numClusteringTasksPlanned\",\"type\":\"integer\",\"nullable\":false,\"metadata\":{}},{\"name\":\"numCompactionTasksPlanned\",\"type\":\"integer\",\"nullable\":false,\"metadata\":{}},{\"name\":\"numOptimizeBatchesPlanned\",\"type\":\"integer\",\"nullable\":false,\"metadata\":{}},{\"name\":\"numLeafNodesExpanded\",\"type\":\"long\",\"nullable\":false,\"metadata\":{}},{\"name\":\"numLeafNodesClustered\",\"type\":\"long\",\"nullable\":false,\"metadata\":{}},{\"name\":\"numGetFilesForNodeCalls\",\"type\":\"long\",\"nullable\":false,\"metadata\":{}},{\"name\":\"numSamplingJobs\",\"type\":\"long\",\"nullable\":false,\"metadata\":{}},{\"name\":\"numLeafNodesCompacted\",\"type\":\"long\",\"nullable\":false,\"metadata\":{}},{\"name\":\"numIntermediateNodesCompacted\",\"type\":\"long\",\"nullable\":false,\"metadata\":{}},{\"name\":\"totalSizeOfDataToCompactInBytes\",\"type\":\"long\",\"nullable\":false,\"metadata\":{}},{\"name\":\"totalLogicalSizeOfDataToCompactInBytes\",\"type\":\"long\",\"nullable\":false,\"metadata\":{}},{\"name\":\"numIntermediateNodesClustered\",\"type\":\"long\",\"nullable\":false,\"metadata\":{}},{\"name\":\"numFilesSkippedAfterExpansion\",\"type\":\"long\",\"nullable\":false,\"metadata\":{}},{\"name\":\"totalSizeOfFilesSkippedAfterExpansionInBytes\",\"type\":\"long\",\"nullable\":false,\"metadata\":{}},{\"name\":\"totalLogicalSizeOfFilesSkippedAfterExpansionInBytes\",\"type\":\"long\",\"nullable\":false,\"metadata\":{}},{\"name\":\"totalSizeOfDataToRewriteInBytes\",\"type\":\"long\",\"nullable\":false,\"metadata\":{}},{\"name\":\"totalLogicalSizeOfDataToRewriteInBytes\",\"type\":\"long\",\"nullable\":false,\"metadata\":{}},{\"name\":\"timeMetrics\",\"type\":{\"type\":\"struct\",\"fields\":[{\"name\":\"classifierTimeMs\",\"type\":\"long\",\"nullable\":false,\"metadata\":{}},{\"name\":\"optimizerTimeMs\",\"type\":\"long\",\"nullable\":false,\"metadata\":{}},{\"name\":\"metadataLoadTimeMs\",\"type\":\"long\",\"nullable\":false,\"metadata\":{}},{\"name\":\"totalGetFilesForNodeCallsTimeMs\",\"type\":\"long\",\"nullable\":false,\"metadata\":{}},{\"name\":\"totalSamplingTimeMs\",\"type\":\"long\",\"nullable\":false,\"metadata\":{}},{\"name\":\"metadataCreationTimeMs\",\"type\":\"long\",\"nullable\":false,\"metadata\":{}}]},\"nullable\":true,\"metadata\":{}},{\"name\":\"maxOptimizeBatchesInParallel\",\"type\":\"long\",\"nullable\":false,\"metadata\":{}},{\"name\":\"currentIteration\",\"type\":\"integer\",\"nullable\":false,\"metadata\":{}},{\"name\":\"maxIterations\",\"type\":\"integer\",\"nullable\":false,\"metadata\":{}},{\"name\":\"clusteringStrategy\",\"type\":\"string\",\"nullable\":true,\"metadata\":{}}]},\"nullable\":true,\"metadata\":{}}]}"
        }
       ],
       "type": "table"
      }
     },
     "output_type": "display_data"
    }
   ],
   "source": [
    "%sql\n",
    "-- Step 1: Create a new payment table with the desired schema and partitioning\n",
    "CREATE OR REPLACE TABLE payment_table_new (\n",
    "    payment_id INT NOT NULL,\n",
    "    date DATE,\n",
    "    amount DECIMAL(10,2),\n",
    "    rider_id INT\n",
    ")\n",
    "USING delta\n",
    "PARTITIONED BY (date);\n",
    "\n",
    "-- Step 2: Insert data from the old table into the new table\n",
    "INSERT INTO payment_table_new\n",
    "SELECT\n",
    "    cast(payment_id as INT) as payment_id,\n",
    "    cast(date as date) as date,\n",
    "    cast(amount as decimal(10,2)) as amount,\n",
    "    cast(rider_id as INT) as rider_id\n",
    "FROM payment_table;\n",
    "\n",
    "-- Step 3: Drop the old table\n",
    "DROP TABLE payment_table;\n",
    "\n",
    "-- Step 4: Drop the existing payment table if it exists\n",
    "DROP TABLE IF EXISTS payment;\n",
    "\n",
    "-- Step 5: Rename the new table to the old table name\n",
    "ALTER TABLE payment_table_new RENAME TO payment;\n",
    "\n",
    "-- Step 6 (Optional): Optimize the table\n",
    "OPTIMIZE payment ZORDER BY (rider_id);"
   ]
  },
  {
   "cell_type": "code",
   "execution_count": 0,
   "metadata": {
    "application/vnd.databricks.v1+cell": {
     "cellMetadata": {
      "byteLimit": 2048000,
      "implicitDf": true,
      "rowLimit": 10000
     },
     "inputWidgets": {},
     "nuid": "e47b889d-8110-4164-a565-fbcb08096d61",
     "showTitle": false,
     "tableResultSettingsMap": {},
     "title": ""
    }
   },
   "outputs": [
    {
     "output_type": "display_data",
     "data": {
      "text/html": [
       "<style scoped>\n",
       "  .table-result-container {\n",
       "    max-height: 300px;\n",
       "    overflow: auto;\n",
       "  }\n",
       "  table, th, td {\n",
       "    border: 1px solid black;\n",
       "    border-collapse: collapse;\n",
       "  }\n",
       "  th, td {\n",
       "    padding: 5px;\n",
       "  }\n",
       "  th {\n",
       "    text-align: left;\n",
       "  }\n",
       "</style><div class='table-result-container'><table class='table-result'><thead style='background-color: white'><tr><th>payment_id</th><th>date</th><th>amount</th><th>rider_id</th></tr></thead><tbody><tr><td>960</td><td>2015-04-01</td><td>9.00</td><td>1040</td></tr><tr><td>1172</td><td>2015-04-01</td><td>9.00</td><td>1043</td></tr><tr><td>1374</td><td>2015-04-01</td><td>9.38</td><td>1052</td></tr><tr><td>1544</td><td>2015-04-01</td><td>4.50</td><td>1056</td></tr><tr><td>1633</td><td>2015-04-01</td><td>12.84</td><td>1057</td></tr></tbody></table></div>"
      ]
     },
     "metadata": {
      "application/vnd.databricks.v1+output": {
       "addedWidgets": {},
       "aggData": [],
       "aggError": "",
       "aggOverflow": false,
       "aggSchema": [],
       "aggSeriesLimitReached": false,
       "aggType": "",
       "arguments": {},
       "columnCustomDisplayInfos": {},
       "data": [
        [
         960,
         "2015-04-01",
         "9.00",
         1040
        ],
        [
         1172,
         "2015-04-01",
         "9.00",
         1043
        ],
        [
         1374,
         "2015-04-01",
         "9.38",
         1052
        ],
        [
         1544,
         "2015-04-01",
         "4.50",
         1056
        ],
        [
         1633,
         "2015-04-01",
         "12.84",
         1057
        ]
       ],
       "datasetInfos": [],
       "dbfsResultPath": null,
       "isJsonSchema": true,
       "metadata": {
        "createTempViewForImplicitDf": true,
        "dataframeName": "_sqldf",
        "executionCount": 1
       },
       "overflow": false,
       "plotOptions": {
        "customPlotOptions": {},
        "displayType": "table",
        "pivotAggregation": null,
        "pivotColumns": null,
        "xColumns": null,
        "yColumns": null
       },
       "removedWidgets": [],
       "schema": [
        {
         "metadata": "{}",
         "name": "payment_id",
         "type": "\"integer\""
        },
        {
         "metadata": "{}",
         "name": "date",
         "type": "\"date\""
        },
        {
         "metadata": "{}",
         "name": "amount",
         "type": "\"decimal(10,2)\""
        },
        {
         "metadata": "{}",
         "name": "rider_id",
         "type": "\"integer\""
        }
       ],
       "type": "table"
      }
     },
     "output_type": "display_data"
    }
   ],
   "source": [
    "%sql\n",
    "use catalog `research_databricks_workspace`; select * from `default`.`payment` limit 5;"
   ]
  },
  {
   "cell_type": "markdown",
   "metadata": {
    "application/vnd.databricks.v1+cell": {
     "cellMetadata": {},
     "inputWidgets": {},
     "nuid": "9c37e007-dc2b-4a1c-a225-2f597dc24ab2",
     "showTitle": false,
     "tableResultSettingsMap": {},
     "title": ""
    }
   },
   "source": [
    "## Riders"
   ]
  },
  {
   "cell_type": "code",
   "execution_count": 0,
   "metadata": {
    "application/vnd.databricks.v1+cell": {
     "cellMetadata": {
      "byteLimit": 2048000,
      "rowLimit": 10000
     },
     "inputWidgets": {},
     "nuid": "4c1a348c-90f1-4eb8-a09e-2a6963951b6a",
     "showTitle": false,
     "tableResultSettingsMap": {},
     "title": ""
    }
   },
   "outputs": [
    {
     "output_type": "execute_result",
     "data": {
      "text/plain": [
       "DataFrame[num_affected_rows: bigint, num_inserted_rows: bigint]"
      ]
     },
     "execution_count": 4,
     "metadata": {},
     "output_type": "execute_result"
    }
   ],
   "source": [
    "\n",
    "# Import data by using the schema defenition\n",
    "from pyspark.sql.types import *\n",
    "from pyspark.sql.functions import col\n",
    "\n",
    "# Define schema\n",
    "rider_schema = StructType([\n",
    "    StructField(\"rider_id\", IntegerType(), False),\n",
    "    StructField(\"first\", StringType(), True),\n",
    "    StructField(\"last\", StringType(), True),\n",
    "    StructField(\"address\", StringType(), True),\n",
    "    StructField(\"birthday\", DateType(), True),\n",
    "    StructField(\"account_start_date\", DateType(), True),\n",
    "    StructField(\"account_end_date\", DateType(), True),\n",
    "    StructField(\"is_member\", BooleanType(), True)\n",
    "])\n",
    "\n",
    "# Load the riders CSV without a header\n",
    "df = spark.read.format(\"csv\").option(\"sep\", \",\").schema(rider_schema).load(\"/Volumes/research_databricks_workspace/default/bikeshare/riders.csv\")\n",
    "\n",
    "# Create temporary view\n",
    "df.createOrReplaceTempView(\"temp_riders\")\n",
    "\n",
    "# Create stations table table without constraints\n",
    "spark.sql(\"\"\"\n",
    "CREATE OR REPLACE TABLE rider (\n",
    "    rider_id INT NOT NULL,\n",
    "    first VARCHAR(50),\n",
    "    last VARCHAR(50),\n",
    "    address VARCHAR(150),\n",
    "    birthday DATE,\n",
    "    account_start_date DATE,\n",
    "    account_end_date DATE,\n",
    "    is_member BOOLEAN\n",
    ") USING DELTA\n",
    "\"\"\")\n",
    "\n",
    "# INSERT INTO statement\n",
    "spark.sql(\"\"\"\n",
    "INSERT INTO rider \n",
    "SELECT\n",
    "    rider_id,\n",
    "    CAST(first AS VARCHAR(50)),\n",
    "    CAST(last as VARCHAR(50)),\n",
    "    CAST(address AS VARCHAR(150)),\n",
    "    birthday,\n",
    "    account_start_date,\n",
    "    account_end_date,\n",
    "    is_member\n",
    "FROM temp_riders\n",
    "\"\"\")"
   ]
  },
  {
   "cell_type": "code",
   "execution_count": 0,
   "metadata": {
    "application/vnd.databricks.v1+cell": {
     "cellMetadata": {
      "byteLimit": 2048000,
      "implicitDf": true,
      "rowLimit": 10000
     },
     "inputWidgets": {},
     "nuid": "1fb89f78-b236-4a13-9ee0-52c766328348",
     "showTitle": false,
     "tableResultSettingsMap": {},
     "title": ""
    }
   },
   "outputs": [
    {
     "output_type": "display_data",
     "data": {
      "text/html": [
       "<style scoped>\n",
       "  .table-result-container {\n",
       "    max-height: 300px;\n",
       "    overflow: auto;\n",
       "  }\n",
       "  table, th, td {\n",
       "    border: 1px solid black;\n",
       "    border-collapse: collapse;\n",
       "  }\n",
       "  th, td {\n",
       "    padding: 5px;\n",
       "  }\n",
       "  th {\n",
       "    text-align: left;\n",
       "  }\n",
       "</style><div class='table-result-container'><table class='table-result'><thead style='background-color: white'><tr><th>rider_id</th><th>first</th><th>last</th><th>address</th><th>birthday</th><th>account_start_date</th><th>account_end_date</th><th>is_member</th></tr></thead><tbody><tr><td>1000</td><td>Diana</td><td>Clark</td><td>1200 Alyssa Squares</td><td>1989-02-13</td><td>2019-04-23</td><td>null</td><td>true</td></tr><tr><td>1001</td><td>Jennifer</td><td>Smith</td><td>397 Diana Ferry</td><td>1976-08-10</td><td>2019-11-01</td><td>2020-09-01</td><td>true</td></tr><tr><td>1002</td><td>Karen</td><td>Smith</td><td>644 Brittany Row Apt. 097</td><td>1998-08-10</td><td>2022-02-04</td><td>null</td><td>true</td></tr><tr><td>1003</td><td>Bryan</td><td>Roberts</td><td>996 Dickerson Turnpike</td><td>1999-03-29</td><td>2019-08-26</td><td>null</td><td>false</td></tr><tr><td>1004</td><td>Jesse</td><td>Middleton</td><td>7009 Nathan Expressway</td><td>1969-04-11</td><td>2019-09-14</td><td>null</td><td>true</td></tr></tbody></table></div>"
      ]
     },
     "metadata": {
      "application/vnd.databricks.v1+output": {
       "addedWidgets": {},
       "aggData": [],
       "aggError": "",
       "aggOverflow": false,
       "aggSchema": [],
       "aggSeriesLimitReached": false,
       "aggType": "",
       "arguments": {},
       "columnCustomDisplayInfos": {},
       "data": [
        [
         1000,
         "Diana",
         "Clark",
         "1200 Alyssa Squares",
         "1989-02-13",
         "2019-04-23",
         null,
         true
        ],
        [
         1001,
         "Jennifer",
         "Smith",
         "397 Diana Ferry",
         "1976-08-10",
         "2019-11-01",
         "2020-09-01",
         true
        ],
        [
         1002,
         "Karen",
         "Smith",
         "644 Brittany Row Apt. 097",
         "1998-08-10",
         "2022-02-04",
         null,
         true
        ],
        [
         1003,
         "Bryan",
         "Roberts",
         "996 Dickerson Turnpike",
         "1999-03-29",
         "2019-08-26",
         null,
         false
        ],
        [
         1004,
         "Jesse",
         "Middleton",
         "7009 Nathan Expressway",
         "1969-04-11",
         "2019-09-14",
         null,
         true
        ]
       ],
       "datasetInfos": [],
       "dbfsResultPath": null,
       "isJsonSchema": true,
       "metadata": {
        "createTempViewForImplicitDf": true,
        "dataframeName": "_sqldf",
        "executionCount": 3
       },
       "overflow": false,
       "plotOptions": {
        "customPlotOptions": {},
        "displayType": "table",
        "pivotAggregation": null,
        "pivotColumns": null,
        "xColumns": null,
        "yColumns": null
       },
       "removedWidgets": [],
       "schema": [
        {
         "metadata": "{}",
         "name": "rider_id",
         "type": "\"integer\""
        },
        {
         "metadata": "{\"__CHAR_VARCHAR_TYPE_STRING\":\"varchar(50)\"}",
         "name": "first",
         "type": "\"string\""
        },
        {
         "metadata": "{\"__CHAR_VARCHAR_TYPE_STRING\":\"varchar(50)\"}",
         "name": "last",
         "type": "\"string\""
        },
        {
         "metadata": "{\"__CHAR_VARCHAR_TYPE_STRING\":\"varchar(150)\"}",
         "name": "address",
         "type": "\"string\""
        },
        {
         "metadata": "{}",
         "name": "birthday",
         "type": "\"date\""
        },
        {
         "metadata": "{}",
         "name": "account_start_date",
         "type": "\"date\""
        },
        {
         "metadata": "{}",
         "name": "account_end_date",
         "type": "\"date\""
        },
        {
         "metadata": "{}",
         "name": "is_member",
         "type": "\"boolean\""
        }
       ],
       "type": "table"
      }
     },
     "output_type": "display_data"
    }
   ],
   "source": [
    "%sql\n",
    "use catalog `research_databricks_workspace`; select * from `default`.`rider` limit 5;"
   ]
  },
  {
   "cell_type": "markdown",
   "metadata": {
    "application/vnd.databricks.v1+cell": {
     "cellMetadata": {},
     "inputWidgets": {},
     "nuid": "1c4b51aa-4ab3-4778-9939-a40003b1d60b",
     "showTitle": false,
     "tableResultSettingsMap": {},
     "title": ""
    }
   },
   "source": [
    "## Stations"
   ]
  },
  {
   "cell_type": "code",
   "execution_count": 0,
   "metadata": {
    "application/vnd.databricks.v1+cell": {
     "cellMetadata": {
      "byteLimit": 2048000,
      "rowLimit": 10000
     },
     "inputWidgets": {},
     "nuid": "9c6be462-db31-4462-9969-01575091c69d",
     "showTitle": false,
     "tableResultSettingsMap": {},
     "title": ""
    }
   },
   "outputs": [
    {
     "output_type": "execute_result",
     "data": {
      "text/plain": [
       "DataFrame[num_affected_rows: bigint, num_inserted_rows: bigint]"
      ]
     },
     "execution_count": 8,
     "metadata": {},
     "output_type": "execute_result"
    }
   ],
   "source": [
    "from pyspark.sql.types import *\n",
    "from pyspark.sql.functions import col\n",
    "\n",
    "# Define schema\n",
    "schema = StructType([\n",
    "    StructField(\"station_id\", StringType(), False),\n",
    "    StructField(\"name\", StringType(), True),\n",
    "    StructField(\"latitude\", FloatType(), True),\n",
    "    StructField(\"longitude\", FloatType(), True)\n",
    "])\n",
    "\n",
    "# Load the stations CSV without a header\n",
    "df = spark.read.format(\"csv\").option(\"sep\", \",\").schema(schema).load(\"/Volumes/research_databricks_workspace/default/bikeshare/stations.csv\")\n",
    "\n",
    "# Create temporary view\n",
    "df.createOrReplaceTempView(\"temp_stations\")\n",
    "\n",
    "# Create stations table without constraints\n",
    "spark.sql(\"\"\"\n",
    "CREATE OR REPLACE TABLE station (\n",
    "    station_id VARCHAR(50) NOT NULL,\n",
    "    name VARCHAR(150),\n",
    "    latitude FLOAT,\n",
    "    longitude FLOAT\n",
    ") USING DELTA\n",
    "\"\"\")\n",
    "\n",
    "# Insert data into the stations table\n",
    "spark.sql(\"\"\"\n",
    "INSERT INTO station \n",
    "SELECT\n",
    "    CAST(station_id AS VARCHAR(50)),\n",
    "    CAST(name AS VARCHAR(150)),\n",
    "    latitude,\n",
    "    longitude\n",
    "FROM temp_stations\n",
    "\"\"\")"
   ]
  },
  {
   "cell_type": "code",
   "execution_count": 0,
   "metadata": {
    "application/vnd.databricks.v1+cell": {
     "cellMetadata": {
      "byteLimit": 2048000,
      "implicitDf": true,
      "rowLimit": 10000
     },
     "inputWidgets": {},
     "nuid": "12360a6d-756f-44e9-9b01-9a551e51fa45",
     "showTitle": false,
     "tableResultSettingsMap": {},
     "title": ""
    }
   },
   "outputs": [
    {
     "output_type": "display_data",
     "data": {
      "text/html": [
       "<style scoped>\n",
       "  .table-result-container {\n",
       "    max-height: 300px;\n",
       "    overflow: auto;\n",
       "  }\n",
       "  table, th, td {\n",
       "    border: 1px solid black;\n",
       "    border-collapse: collapse;\n",
       "  }\n",
       "  th, td {\n",
       "    padding: 5px;\n",
       "  }\n",
       "  th {\n",
       "    text-align: left;\n",
       "  }\n",
       "</style><div class='table-result-container'><table class='table-result'><thead style='background-color: white'><tr><th>station_id</th><th>name</th><th>latitude</th><th>longitude</th></tr></thead><tbody><tr><td>525</td><td>Glenwood Ave & Touhy Ave</td><td>42.0127</td><td>-87.66606</td></tr><tr><td>KA1503000012</td><td>Clark St & Lake St</td><td>41.885796</td><td>-87.6311</td></tr><tr><td>637</td><td>Wood St & Chicago Ave</td><td>41.895634</td><td>-87.672066</td></tr><tr><td>13216</td><td>State St & 33rd St</td><td>41.834732</td><td>-87.625824</td></tr><tr><td>18003</td><td>Fairbanks St & Superior St</td><td>41.89581</td><td>-87.620255</td></tr></tbody></table></div>"
      ]
     },
     "metadata": {
      "application/vnd.databricks.v1+output": {
       "addedWidgets": {},
       "aggData": [],
       "aggError": "",
       "aggOverflow": false,
       "aggSchema": [],
       "aggSeriesLimitReached": false,
       "aggType": "",
       "arguments": {},
       "columnCustomDisplayInfos": {},
       "data": [
        [
         "525",
         "Glenwood Ave & Touhy Ave",
         42.0127,
         -87.66606
        ],
        [
         "KA1503000012",
         "Clark St & Lake St",
         41.885796,
         -87.6311
        ],
        [
         "637",
         "Wood St & Chicago Ave",
         41.895634,
         -87.672066
        ],
        [
         "13216",
         "State St & 33rd St",
         41.834732,
         -87.625824
        ],
        [
         "18003",
         "Fairbanks St & Superior St",
         41.89581,
         -87.620255
        ]
       ],
       "datasetInfos": [],
       "dbfsResultPath": null,
       "isJsonSchema": true,
       "metadata": {
        "createTempViewForImplicitDf": true,
        "dataframeName": "_sqldf",
        "executionCount": 5
       },
       "overflow": false,
       "plotOptions": {
        "customPlotOptions": {},
        "displayType": "table",
        "pivotAggregation": null,
        "pivotColumns": null,
        "xColumns": null,
        "yColumns": null
       },
       "removedWidgets": [],
       "schema": [
        {
         "metadata": "{\"__CHAR_VARCHAR_TYPE_STRING\":\"varchar(50)\"}",
         "name": "station_id",
         "type": "\"string\""
        },
        {
         "metadata": "{\"__CHAR_VARCHAR_TYPE_STRING\":\"varchar(150)\"}",
         "name": "name",
         "type": "\"string\""
        },
        {
         "metadata": "{}",
         "name": "latitude",
         "type": "\"float\""
        },
        {
         "metadata": "{}",
         "name": "longitude",
         "type": "\"float\""
        }
       ],
       "type": "table"
      }
     },
     "output_type": "display_data"
    }
   ],
   "source": [
    "%sql\n",
    "use catalog `research_databricks_workspace`; select * from `default`.`station` limit 5;"
   ]
  },
  {
   "cell_type": "markdown",
   "metadata": {
    "application/vnd.databricks.v1+cell": {
     "cellMetadata": {},
     "inputWidgets": {},
     "nuid": "59a7323b-4329-4303-8c79-ba5d0dc57344",
     "showTitle": false,
     "tableResultSettingsMap": {},
     "title": ""
    }
   },
   "source": [
    "## Trips"
   ]
  },
  {
   "cell_type": "code",
   "execution_count": 0,
   "metadata": {
    "application/vnd.databricks.v1+cell": {
     "cellMetadata": {
      "byteLimit": 2048000,
      "rowLimit": 10000
     },
     "inputWidgets": {},
     "nuid": "f2d230b6-fd28-4605-8a2a-bb15f24709c4",
     "showTitle": false,
     "tableResultSettingsMap": {},
     "title": ""
    }
   },
   "outputs": [],
   "source": [
    "# Import trips CSV file \n",
    "df = spark.read.format(\"csv\")\\\n",
    "    .option(\"header\", \"false\")\\\n",
    "    .load(\"/Volumes/research_databricks_workspace/default/bikeshare/trips.csv\")\\\n",
    "    .toDF(\"trip_id\", \"rideable_type\", \"started_at\", \"ended_at\", \"start_station_id\", \"end_station_id\", \"rider_id\")\n",
    "\n",
    "# create a delta table from the dataframe\n",
    "df.write.format(\"delta\").mode(\"overwrite\").saveAsTable(\"trip_table\")"
   ]
  },
  {
   "cell_type": "code",
   "execution_count": 0,
   "metadata": {
    "application/vnd.databricks.v1+cell": {
     "cellMetadata": {
      "byteLimit": 2048000,
      "implicitDf": true,
      "rowLimit": 10000
     },
     "inputWidgets": {},
     "nuid": "d9203b5b-1c3a-4306-816d-403271f1de90",
     "showTitle": false,
     "tableResultSettingsMap": {},
     "title": ""
    }
   },
   "outputs": [
    {
     "output_type": "display_data",
     "data": {
      "text/html": [
       "<style scoped>\n",
       "  .table-result-container {\n",
       "    max-height: 300px;\n",
       "    overflow: auto;\n",
       "  }\n",
       "  table, th, td {\n",
       "    border: 1px solid black;\n",
       "    border-collapse: collapse;\n",
       "  }\n",
       "  th, td {\n",
       "    padding: 5px;\n",
       "  }\n",
       "  th {\n",
       "    text-align: left;\n",
       "  }\n",
       "</style><div class='table-result-container'><table class='table-result'><thead style='background-color: white'><tr></tr></thead><tbody></tbody></table></div>"
      ]
     },
     "metadata": {
      "application/vnd.databricks.v1+output": {
       "addedWidgets": {},
       "aggData": [],
       "aggError": "",
       "aggOverflow": false,
       "aggSchema": [],
       "aggSeriesLimitReached": false,
       "aggType": "",
       "arguments": {},
       "columnCustomDisplayInfos": {},
       "data": [],
       "datasetInfos": [],
       "dbfsResultPath": null,
       "isJsonSchema": true,
       "metadata": {
        "dataframeName": null
       },
       "overflow": false,
       "plotOptions": {
        "customPlotOptions": {},
        "displayType": "table",
        "pivotAggregation": null,
        "pivotColumns": null,
        "xColumns": null,
        "yColumns": null
       },
       "removedWidgets": [],
       "schema": [],
       "type": "table"
      }
     },
     "output_type": "display_data"
    }
   ],
   "source": [
    "%sql\n",
    "-- Step 0: Drop tables if they exist\n",
    "DROP TABLE IF EXISTS trip;\n",
    "DROP TABLE IF EXISTS trip_table_new;\n",
    "\n",
    "-- Step 1: Create a new table with the desired schema\n",
    "CREATE TABLE trip_table_new (\n",
    "    trip_id VARCHAR(50),\n",
    "    rideable_type VARCHAR(20),\n",
    "    started_at TIMESTAMP,\n",
    "    ended_at TIMESTAMP,\n",
    "    start_station_id VARCHAR(50),\n",
    "    end_station_id VARCHAR(50),\n",
    "    rider_id INT\n",
    ");\n",
    "\n",
    "-- Step 2: Insert data from the old table into the new table\n",
    "INSERT INTO trip_table_new\n",
    "SELECT \n",
    "    trip_id,\n",
    "    rideable_type,\n",
    "    CAST(started_at AS TIMESTAMP) AS started_at,\n",
    "    CAST(ended_at AS TIMESTAMP) AS ended_at,\n",
    "    CAST(start_station_id AS varchar(50)) AS start_station_id,\n",
    "    CAST(end_station_id AS varchar(50)) AS end_station_id,\n",
    "    CAST(rider_id AS INT) AS rider_id\n",
    "FROM trip_table;\n",
    "\n",
    "-- Step 3: Drop the old table\n",
    "DROP TABLE trip_table;\n",
    "\n",
    "-- Step 4: Rename the new table to the old table name\n",
    "ALTER TABLE trip_table_new RENAME TO trip;"
   ]
  },
  {
   "cell_type": "code",
   "execution_count": 0,
   "metadata": {
    "application/vnd.databricks.v1+cell": {
     "cellMetadata": {
      "byteLimit": 2048000,
      "implicitDf": true,
      "rowLimit": 10000
     },
     "inputWidgets": {},
     "nuid": "4c17a8dc-2f59-499c-b61b-f1fa8941d536",
     "showTitle": false,
     "tableResultSettingsMap": {},
     "title": ""
    }
   },
   "outputs": [
    {
     "output_type": "display_data",
     "data": {
      "text/html": [
       "<style scoped>\n",
       "  .table-result-container {\n",
       "    max-height: 300px;\n",
       "    overflow: auto;\n",
       "  }\n",
       "  table, th, td {\n",
       "    border: 1px solid black;\n",
       "    border-collapse: collapse;\n",
       "  }\n",
       "  th, td {\n",
       "    padding: 5px;\n",
       "  }\n",
       "  th {\n",
       "    text-align: left;\n",
       "  }\n",
       "</style><div class='table-result-container'><table class='table-result'><thead style='background-color: white'><tr><th>trip_id</th><th>rideable_type</th><th>started_at</th><th>ended_at</th><th>start_station_id</th><th>end_station_id</th><th>rider_id</th></tr></thead><tbody><tr><td>6EFDB32C10BB3796</td><td>docked_bike</td><td>2021-07-09T15:20:42Z</td><td>2021-07-09T15:23:16Z</td><td>13146</td><td>13146</td><td>2603</td></tr><tr><td>DD8ADD31D6960CD3</td><td>classic_bike</td><td>2021-07-24T12:05:48Z</td><td>2021-07-24T12:27:51Z</td><td>13146</td><td>13146</td><td>26447</td></tr><tr><td>591169F08465CA9F</td><td>docked_bike</td><td>2021-07-17T04:42:40Z</td><td>2021-07-17T04:57:16Z</td><td>13146</td><td>13146</td><td>10516</td></tr><tr><td>24C424E55DB4B85D</td><td>classic_bike</td><td>2021-07-09T20:09:14Z</td><td>2021-07-09T20:11:03Z</td><td>13146</td><td>13146</td><td>41018</td></tr><tr><td>7133D3F95D071A5A</td><td>classic_bike</td><td>2021-07-01T16:45:43Z</td><td>2021-07-01T16:57:38Z</td><td>13296</td><td>13146</td><td>21093</td></tr></tbody></table></div>"
      ]
     },
     "metadata": {
      "application/vnd.databricks.v1+output": {
       "addedWidgets": {},
       "aggData": [],
       "aggError": "",
       "aggOverflow": false,
       "aggSchema": [],
       "aggSeriesLimitReached": false,
       "aggType": "",
       "arguments": {},
       "columnCustomDisplayInfos": {},
       "data": [
        [
         "6EFDB32C10BB3796",
         "docked_bike",
         "2021-07-09T15:20:42Z",
         "2021-07-09T15:23:16Z",
         "13146",
         "13146",
         2603
        ],
        [
         "DD8ADD31D6960CD3",
         "classic_bike",
         "2021-07-24T12:05:48Z",
         "2021-07-24T12:27:51Z",
         "13146",
         "13146",
         26447
        ],
        [
         "591169F08465CA9F",
         "docked_bike",
         "2021-07-17T04:42:40Z",
         "2021-07-17T04:57:16Z",
         "13146",
         "13146",
         10516
        ],
        [
         "24C424E55DB4B85D",
         "classic_bike",
         "2021-07-09T20:09:14Z",
         "2021-07-09T20:11:03Z",
         "13146",
         "13146",
         41018
        ],
        [
         "7133D3F95D071A5A",
         "classic_bike",
         "2021-07-01T16:45:43Z",
         "2021-07-01T16:57:38Z",
         "13296",
         "13146",
         21093
        ]
       ],
       "datasetInfos": [],
       "dbfsResultPath": null,
       "isJsonSchema": true,
       "metadata": {
        "createTempViewForImplicitDf": true,
        "dataframeName": "_sqldf",
        "executionCount": 7
       },
       "overflow": false,
       "plotOptions": {
        "customPlotOptions": {},
        "displayType": "table",
        "pivotAggregation": null,
        "pivotColumns": null,
        "xColumns": null,
        "yColumns": null
       },
       "removedWidgets": [],
       "schema": [
        {
         "metadata": "{\"__CHAR_VARCHAR_TYPE_STRING\":\"varchar(50)\"}",
         "name": "trip_id",
         "type": "\"string\""
        },
        {
         "metadata": "{\"__CHAR_VARCHAR_TYPE_STRING\":\"varchar(20)\"}",
         "name": "rideable_type",
         "type": "\"string\""
        },
        {
         "metadata": "{}",
         "name": "started_at",
         "type": "\"timestamp\""
        },
        {
         "metadata": "{}",
         "name": "ended_at",
         "type": "\"timestamp\""
        },
        {
         "metadata": "{\"__CHAR_VARCHAR_TYPE_STRING\":\"varchar(50)\"}",
         "name": "start_station_id",
         "type": "\"string\""
        },
        {
         "metadata": "{\"__CHAR_VARCHAR_TYPE_STRING\":\"varchar(50)\"}",
         "name": "end_station_id",
         "type": "\"string\""
        },
        {
         "metadata": "{}",
         "name": "rider_id",
         "type": "\"integer\""
        }
       ],
       "type": "table"
      }
     },
     "output_type": "display_data"
    }
   ],
   "source": [
    "%sql\n",
    "use catalog `research_databricks_workspace`; select * from `default`.`trip` limit 5;"
   ]
  },
  {
   "cell_type": "markdown",
   "metadata": {
    "application/vnd.databricks.v1+cell": {
     "cellMetadata": {},
     "inputWidgets": {},
     "nuid": "de4f8fbf-7a4b-447d-a4d6-0b5b2764cde9",
     "showTitle": false,
     "tableResultSettingsMap": {},
     "title": ""
    }
   },
   "source": [
    "# Create Dimensions and Fact Tables"
   ]
  },
  {
   "cell_type": "markdown",
   "metadata": {
    "application/vnd.databricks.v1+cell": {
     "cellMetadata": {},
     "inputWidgets": {},
     "nuid": "969c0d62-a3b2-463d-9768-3e9475bebdbb",
     "showTitle": false,
     "tableResultSettingsMap": {},
     "title": ""
    }
   },
   "source": [
    "## Rider Dimension Table"
   ]
  },
  {
   "cell_type": "code",
   "execution_count": 0,
   "metadata": {
    "application/vnd.databricks.v1+cell": {
     "cellMetadata": {
      "byteLimit": 2048000,
      "implicitDf": true,
      "rowLimit": 10000
     },
     "inputWidgets": {},
     "nuid": "cacd407a-e37d-47c0-886e-74f19b6b9f18",
     "showTitle": false,
     "tableResultSettingsMap": {},
     "title": ""
    }
   },
   "outputs": [
    {
     "output_type": "display_data",
     "data": {
      "text/html": [
       "<style scoped>\n",
       "  .table-result-container {\n",
       "    max-height: 300px;\n",
       "    overflow: auto;\n",
       "  }\n",
       "  table, th, td {\n",
       "    border: 1px solid black;\n",
       "    border-collapse: collapse;\n",
       "  }\n",
       "  th, td {\n",
       "    padding: 5px;\n",
       "  }\n",
       "  th {\n",
       "    text-align: left;\n",
       "  }\n",
       "</style><div class='table-result-container'><table class='table-result'><thead style='background-color: white'><tr><th>num_affected_rows</th><th>num_inserted_rows</th></tr></thead><tbody><tr><td>75000</td><td>75000</td></tr></tbody></table></div>"
      ]
     },
     "metadata": {
      "application/vnd.databricks.v1+output": {
       "addedWidgets": {},
       "aggData": [],
       "aggError": "",
       "aggOverflow": false,
       "aggSchema": [],
       "aggSeriesLimitReached": false,
       "aggType": "",
       "arguments": {},
       "columnCustomDisplayInfos": {},
       "data": [
        [
         75000,
         75000
        ]
       ],
       "datasetInfos": [],
       "dbfsResultPath": null,
       "isJsonSchema": true,
       "metadata": {
        "createTempViewForImplicitDf": true,
        "dataframeName": "_sqldf",
        "executionCount": 16
       },
       "overflow": false,
       "plotOptions": {
        "customPlotOptions": {},
        "displayType": "table",
        "pivotAggregation": null,
        "pivotColumns": null,
        "xColumns": null,
        "yColumns": null
       },
       "removedWidgets": [],
       "schema": [
        {
         "metadata": "{}",
         "name": "num_affected_rows",
         "type": "\"long\""
        },
        {
         "metadata": "{}",
         "name": "num_inserted_rows",
         "type": "\"long\""
        }
       ],
       "type": "table"
      }
     },
     "output_type": "display_data"
    }
   ],
   "source": [
    "%sql\n",
    "-- Create Rider Dimension Table without primary key constraint\n",
    "drop table if exists dim_rider;\n",
    "create table dim_rider (\n",
    " rider_sk bigint generated always as identity, -- Surrogate key\n",
    " rider_id int, -- Natural/business key\n",
    " first_name varchar(50),\n",
    " last_name varchar(50),\n",
    " address varchar(255),\n",
    " birthday date,\n",
    " account_start_date date,\n",
    " account_end_date date,\n",
    " rider_age_account_start int, -- New field\n",
    " is_member boolean,\n",
    " effective_start_date date, -- SCD Type 2 fields\n",
    " effective_end_date date,\n",
    " is_current boolean\n",
    ") using delta;\n",
    "\n",
    "-- Populate Rider Dimension Table from existing source table\n",
    "insert into dim_rider (\n",
    "    rider_id, \n",
    "    first_name, \n",
    "    last_name, \n",
    "    address, \n",
    "    birthday, \n",
    "    account_start_date, \n",
    "    account_end_date, \n",
    "    rider_age_account_start,\n",
    "    is_member, \n",
    "    effective_start_date, \n",
    "    effective_end_date, \n",
    "    is_current\n",
    ")\n",
    "select \n",
    "    rider_id, \n",
    "    first as first_name, \n",
    "    last as last_name, \n",
    "    address, \n",
    "    birthday, \n",
    "    account_start_date, \n",
    "    account_end_date,\n",
    "    datediff(year, birthday, account_start_date) as rider_age_account_start,\n",
    "    is_member,\n",
    "    account_start_date, \n",
    "    coalesce(account_end_date, '9999-12-31'),\n",
    "    case when account_end_date is null then true else false end\n",
    "from rider;"
   ]
  },
  {
   "cell_type": "code",
   "execution_count": 0,
   "metadata": {
    "application/vnd.databricks.v1+cell": {
     "cellMetadata": {
      "byteLimit": 2048000,
      "implicitDf": true,
      "rowLimit": 10000
     },
     "inputWidgets": {},
     "nuid": "6b887425-1689-4d01-af65-130e87f8ecba",
     "showTitle": false,
     "tableResultSettingsMap": {},
     "title": ""
    }
   },
   "outputs": [
    {
     "output_type": "display_data",
     "data": {
      "text/html": [
       "<style scoped>\n",
       "  .table-result-container {\n",
       "    max-height: 300px;\n",
       "    overflow: auto;\n",
       "  }\n",
       "  table, th, td {\n",
       "    border: 1px solid black;\n",
       "    border-collapse: collapse;\n",
       "  }\n",
       "  th, td {\n",
       "    padding: 5px;\n",
       "  }\n",
       "  th {\n",
       "    text-align: left;\n",
       "  }\n",
       "</style><div class='table-result-container'><table class='table-result'><thead style='background-color: white'><tr><th>rider_sk</th><th>rider_id</th><th>first_name</th><th>last_name</th><th>address</th><th>birthday</th><th>account_start_date</th><th>account_end_date</th><th>rider_age_account_start</th><th>is_member</th><th>effective_start_date</th><th>effective_end_date</th><th>is_current</th></tr></thead><tbody><tr><td>1</td><td>1000</td><td>Diana</td><td>Clark</td><td>1200 Alyssa Squares</td><td>1989-02-13</td><td>2019-04-23</td><td>null</td><td>30</td><td>true</td><td>2019-04-23</td><td>9999-12-31</td><td>true</td></tr><tr><td>2</td><td>1001</td><td>Jennifer</td><td>Smith</td><td>397 Diana Ferry</td><td>1976-08-10</td><td>2019-11-01</td><td>2020-09-01</td><td>43</td><td>true</td><td>2019-11-01</td><td>2020-09-01</td><td>false</td></tr><tr><td>3</td><td>1002</td><td>Karen</td><td>Smith</td><td>644 Brittany Row Apt. 097</td><td>1998-08-10</td><td>2022-02-04</td><td>null</td><td>23</td><td>true</td><td>2022-02-04</td><td>9999-12-31</td><td>true</td></tr><tr><td>4</td><td>1003</td><td>Bryan</td><td>Roberts</td><td>996 Dickerson Turnpike</td><td>1999-03-29</td><td>2019-08-26</td><td>null</td><td>20</td><td>false</td><td>2019-08-26</td><td>9999-12-31</td><td>true</td></tr><tr><td>5</td><td>1004</td><td>Jesse</td><td>Middleton</td><td>7009 Nathan Expressway</td><td>1969-04-11</td><td>2019-09-14</td><td>null</td><td>50</td><td>true</td><td>2019-09-14</td><td>9999-12-31</td><td>true</td></tr></tbody></table></div>"
      ]
     },
     "metadata": {
      "application/vnd.databricks.v1+output": {
       "addedWidgets": {},
       "aggData": [],
       "aggError": "",
       "aggOverflow": false,
       "aggSchema": [],
       "aggSeriesLimitReached": false,
       "aggType": "",
       "arguments": {},
       "columnCustomDisplayInfos": {},
       "data": [
        [
         1,
         1000,
         "Diana",
         "Clark",
         "1200 Alyssa Squares",
         "1989-02-13",
         "2019-04-23",
         null,
         30,
         true,
         "2019-04-23",
         "9999-12-31",
         true
        ],
        [
         2,
         1001,
         "Jennifer",
         "Smith",
         "397 Diana Ferry",
         "1976-08-10",
         "2019-11-01",
         "2020-09-01",
         43,
         true,
         "2019-11-01",
         "2020-09-01",
         false
        ],
        [
         3,
         1002,
         "Karen",
         "Smith",
         "644 Brittany Row Apt. 097",
         "1998-08-10",
         "2022-02-04",
         null,
         23,
         true,
         "2022-02-04",
         "9999-12-31",
         true
        ],
        [
         4,
         1003,
         "Bryan",
         "Roberts",
         "996 Dickerson Turnpike",
         "1999-03-29",
         "2019-08-26",
         null,
         20,
         false,
         "2019-08-26",
         "9999-12-31",
         true
        ],
        [
         5,
         1004,
         "Jesse",
         "Middleton",
         "7009 Nathan Expressway",
         "1969-04-11",
         "2019-09-14",
         null,
         50,
         true,
         "2019-09-14",
         "9999-12-31",
         true
        ]
       ],
       "datasetInfos": [],
       "dbfsResultPath": null,
       "isJsonSchema": true,
       "metadata": {
        "createTempViewForImplicitDf": true,
        "dataframeName": "_sqldf",
        "executionCount": 9
       },
       "overflow": false,
       "plotOptions": {
        "customPlotOptions": {},
        "displayType": "table",
        "pivotAggregation": null,
        "pivotColumns": null,
        "xColumns": null,
        "yColumns": null
       },
       "removedWidgets": [],
       "schema": [
        {
         "metadata": "{}",
         "name": "rider_sk",
         "type": "\"long\""
        },
        {
         "metadata": "{}",
         "name": "rider_id",
         "type": "\"integer\""
        },
        {
         "metadata": "{\"__CHAR_VARCHAR_TYPE_STRING\":\"varchar(50)\"}",
         "name": "first_name",
         "type": "\"string\""
        },
        {
         "metadata": "{\"__CHAR_VARCHAR_TYPE_STRING\":\"varchar(50)\"}",
         "name": "last_name",
         "type": "\"string\""
        },
        {
         "metadata": "{\"__CHAR_VARCHAR_TYPE_STRING\":\"varchar(255)\"}",
         "name": "address",
         "type": "\"string\""
        },
        {
         "metadata": "{}",
         "name": "birthday",
         "type": "\"date\""
        },
        {
         "metadata": "{}",
         "name": "account_start_date",
         "type": "\"date\""
        },
        {
         "metadata": "{}",
         "name": "account_end_date",
         "type": "\"date\""
        },
        {
         "metadata": "{}",
         "name": "rider_age_account_start",
         "type": "\"integer\""
        },
        {
         "metadata": "{}",
         "name": "is_member",
         "type": "\"boolean\""
        },
        {
         "metadata": "{}",
         "name": "effective_start_date",
         "type": "\"date\""
        },
        {
         "metadata": "{}",
         "name": "effective_end_date",
         "type": "\"date\""
        },
        {
         "metadata": "{}",
         "name": "is_current",
         "type": "\"boolean\""
        }
       ],
       "type": "table"
      }
     },
     "output_type": "display_data"
    }
   ],
   "source": [
    "%sql\n",
    "use catalog `research_databricks_workspace`; select * from `default`.`dim_rider` limit 5;"
   ]
  },
  {
   "cell_type": "markdown",
   "metadata": {
    "application/vnd.databricks.v1+cell": {
     "cellMetadata": {},
     "inputWidgets": {},
     "nuid": "8c14386e-c3c1-47d8-8590-c6d720091811",
     "showTitle": false,
     "tableResultSettingsMap": {},
     "title": ""
    }
   },
   "source": [
    "## Station Dimension Table"
   ]
  },
  {
   "cell_type": "code",
   "execution_count": 0,
   "metadata": {
    "application/vnd.databricks.v1+cell": {
     "cellMetadata": {
      "byteLimit": 2048000,
      "implicitDf": true,
      "rowLimit": 10000
     },
     "inputWidgets": {},
     "nuid": "f648924b-6a33-45be-b4a6-8628db4a90c9",
     "showTitle": false,
     "tableResultSettingsMap": {},
     "title": ""
    }
   },
   "outputs": [
    {
     "output_type": "display_data",
     "data": {
      "text/html": [
       "<style scoped>\n",
       "  .table-result-container {\n",
       "    max-height: 300px;\n",
       "    overflow: auto;\n",
       "  }\n",
       "  table, th, td {\n",
       "    border: 1px solid black;\n",
       "    border-collapse: collapse;\n",
       "  }\n",
       "  th, td {\n",
       "    padding: 5px;\n",
       "  }\n",
       "  th {\n",
       "    text-align: left;\n",
       "  }\n",
       "</style><div class='table-result-container'><table class='table-result'><thead style='background-color: white'><tr><th>num_affected_rows</th><th>num_inserted_rows</th></tr></thead><tbody><tr><td>838</td><td>838</td></tr></tbody></table></div>"
      ]
     },
     "metadata": {
      "application/vnd.databricks.v1+output": {
       "addedWidgets": {},
       "aggData": [],
       "aggError": "",
       "aggOverflow": false,
       "aggSchema": [],
       "aggSeriesLimitReached": false,
       "aggType": "",
       "arguments": {},
       "columnCustomDisplayInfos": {},
       "data": [
        [
         838,
         838
        ]
       ],
       "datasetInfos": [],
       "dbfsResultPath": null,
       "isJsonSchema": true,
       "metadata": {
        "createTempViewForImplicitDf": true,
        "dataframeName": "_sqldf",
        "executionCount": 19
       },
       "overflow": false,
       "plotOptions": {
        "customPlotOptions": {},
        "displayType": "table",
        "pivotAggregation": null,
        "pivotColumns": null,
        "xColumns": null,
        "yColumns": null
       },
       "removedWidgets": [],
       "schema": [
        {
         "metadata": "{}",
         "name": "num_affected_rows",
         "type": "\"long\""
        },
        {
         "metadata": "{}",
         "name": "num_inserted_rows",
         "type": "\"long\""
        }
       ],
       "type": "table"
      }
     },
     "output_type": "display_data"
    }
   ],
   "source": [
    "%sql\n",
    "-- Create Station Dimension Table\n",
    "drop table if exists dim_station;\n",
    "create table dim_station (\n",
    "    station_sk bigint generated always as identity,  -- Surrogate key\n",
    "    station_id varchar(50),                          -- Natural/business key\n",
    "    station_name varchar(100),\n",
    "    latitude float,\n",
    "    longitude float,\n",
    "    effective_start_date date,                       -- SCD Type 2 fields\n",
    "    effective_end_date date,\n",
    "    is_current boolean\n",
    ") using delta;\n",
    "\n",
    "-- Populate Station Dimension Table from existing source table\n",
    "insert into dim_station (station_id, station_name, latitude, longitude, effective_start_date, effective_end_date, is_current)\n",
    "select station_id, name as station_name, latitude, longitude, current_date(), '9999-12-31', true\n",
    "from station;"
   ]
  },
  {
   "cell_type": "code",
   "execution_count": 0,
   "metadata": {
    "application/vnd.databricks.v1+cell": {
     "cellMetadata": {
      "byteLimit": 2048000,
      "implicitDf": true,
      "rowLimit": 10000
     },
     "inputWidgets": {},
     "nuid": "99fc6fce-aec7-4180-944f-5f8b4fe88f54",
     "showTitle": false,
     "tableResultSettingsMap": {},
     "title": ""
    }
   },
   "outputs": [
    {
     "output_type": "display_data",
     "data": {
      "text/html": [
       "<style scoped>\n",
       "  .table-result-container {\n",
       "    max-height: 300px;\n",
       "    overflow: auto;\n",
       "  }\n",
       "  table, th, td {\n",
       "    border: 1px solid black;\n",
       "    border-collapse: collapse;\n",
       "  }\n",
       "  th, td {\n",
       "    padding: 5px;\n",
       "  }\n",
       "  th {\n",
       "    text-align: left;\n",
       "  }\n",
       "</style><div class='table-result-container'><table class='table-result'><thead style='background-color: white'><tr><th>station_sk</th><th>station_id</th><th>station_name</th><th>latitude</th><th>longitude</th><th>effective_start_date</th><th>effective_end_date</th><th>is_current</th></tr></thead><tbody><tr><td>1</td><td>525</td><td>Glenwood Ave & Touhy Ave</td><td>42.0127</td><td>-87.66606</td><td>2024-11-24</td><td>9999-12-31</td><td>true</td></tr><tr><td>2</td><td>KA1503000012</td><td>Clark St & Lake St</td><td>41.885796</td><td>-87.6311</td><td>2024-11-24</td><td>9999-12-31</td><td>true</td></tr><tr><td>3</td><td>637</td><td>Wood St & Chicago Ave</td><td>41.895634</td><td>-87.672066</td><td>2024-11-24</td><td>9999-12-31</td><td>true</td></tr><tr><td>4</td><td>13216</td><td>State St & 33rd St</td><td>41.834732</td><td>-87.625824</td><td>2024-11-24</td><td>9999-12-31</td><td>true</td></tr><tr><td>5</td><td>18003</td><td>Fairbanks St & Superior St</td><td>41.89581</td><td>-87.620255</td><td>2024-11-24</td><td>9999-12-31</td><td>true</td></tr></tbody></table></div>"
      ]
     },
     "metadata": {
      "application/vnd.databricks.v1+output": {
       "addedWidgets": {},
       "aggData": [],
       "aggError": "",
       "aggOverflow": false,
       "aggSchema": [],
       "aggSeriesLimitReached": false,
       "aggType": "",
       "arguments": {},
       "columnCustomDisplayInfos": {},
       "data": [
        [
         1,
         "525",
         "Glenwood Ave & Touhy Ave",
         42.0127,
         -87.66606,
         "2024-11-24",
         "9999-12-31",
         true
        ],
        [
         2,
         "KA1503000012",
         "Clark St & Lake St",
         41.885796,
         -87.6311,
         "2024-11-24",
         "9999-12-31",
         true
        ],
        [
         3,
         "637",
         "Wood St & Chicago Ave",
         41.895634,
         -87.672066,
         "2024-11-24",
         "9999-12-31",
         true
        ],
        [
         4,
         "13216",
         "State St & 33rd St",
         41.834732,
         -87.625824,
         "2024-11-24",
         "9999-12-31",
         true
        ],
        [
         5,
         "18003",
         "Fairbanks St & Superior St",
         41.89581,
         -87.620255,
         "2024-11-24",
         "9999-12-31",
         true
        ]
       ],
       "datasetInfos": [],
       "dbfsResultPath": null,
       "isJsonSchema": true,
       "metadata": {
        "createTempViewForImplicitDf": true,
        "dataframeName": "_sqldf",
        "executionCount": 11
       },
       "overflow": false,
       "plotOptions": {
        "customPlotOptions": {},
        "displayType": "table",
        "pivotAggregation": null,
        "pivotColumns": null,
        "xColumns": null,
        "yColumns": null
       },
       "removedWidgets": [],
       "schema": [
        {
         "metadata": "{}",
         "name": "station_sk",
         "type": "\"long\""
        },
        {
         "metadata": "{\"__CHAR_VARCHAR_TYPE_STRING\":\"varchar(50)\"}",
         "name": "station_id",
         "type": "\"string\""
        },
        {
         "metadata": "{\"__CHAR_VARCHAR_TYPE_STRING\":\"varchar(100)\"}",
         "name": "station_name",
         "type": "\"string\""
        },
        {
         "metadata": "{}",
         "name": "latitude",
         "type": "\"float\""
        },
        {
         "metadata": "{}",
         "name": "longitude",
         "type": "\"float\""
        },
        {
         "metadata": "{}",
         "name": "effective_start_date",
         "type": "\"date\""
        },
        {
         "metadata": "{}",
         "name": "effective_end_date",
         "type": "\"date\""
        },
        {
         "metadata": "{}",
         "name": "is_current",
         "type": "\"boolean\""
        }
       ],
       "type": "table"
      }
     },
     "output_type": "display_data"
    }
   ],
   "source": [
    "%sql\n",
    "use catalog `research_databricks_workspace`; select * from `default`.`dim_station` limit 5;"
   ]
  },
  {
   "cell_type": "markdown",
   "metadata": {
    "application/vnd.databricks.v1+cell": {
     "cellMetadata": {},
     "inputWidgets": {},
     "nuid": "10805540-1963-415e-8074-af942ca072ed",
     "showTitle": false,
     "tableResultSettingsMap": {},
     "title": ""
    }
   },
   "source": [
    "## Dim Date"
   ]
  },
  {
   "cell_type": "code",
   "execution_count": 0,
   "metadata": {
    "application/vnd.databricks.v1+cell": {
     "cellMetadata": {
      "byteLimit": 2048000,
      "implicitDf": true,
      "rowLimit": 10000
     },
     "inputWidgets": {},
     "nuid": "29ceca26-4313-48ac-a4b7-cfb147f21773",
     "showTitle": false,
     "tableResultSettingsMap": {},
     "title": ""
    }
   },
   "outputs": [
    {
     "output_type": "display_data",
     "data": {
      "text/html": [
       "<style scoped>\n",
       "  .table-result-container {\n",
       "    max-height: 300px;\n",
       "    overflow: auto;\n",
       "  }\n",
       "  table, th, td {\n",
       "    border: 1px solid black;\n",
       "    border-collapse: collapse;\n",
       "  }\n",
       "  th, td {\n",
       "    padding: 5px;\n",
       "  }\n",
       "  th {\n",
       "    text-align: left;\n",
       "  }\n",
       "</style><div class='table-result-container'><table class='table-result'><thead style='background-color: white'><tr><th>num_affected_rows</th><th>num_inserted_rows</th></tr></thead><tbody><tr><td>6880277</td><td>6880277</td></tr></tbody></table></div>"
      ]
     },
     "metadata": {
      "application/vnd.databricks.v1+output": {
       "addedWidgets": {},
       "aggData": [],
       "aggError": "",
       "aggOverflow": false,
       "aggSchema": [],
       "aggSeriesLimitReached": false,
       "aggType": "",
       "arguments": {},
       "columnCustomDisplayInfos": {},
       "data": [
        [
         6880277,
         6880277
        ]
       ],
       "datasetInfos": [],
       "dbfsResultPath": null,
       "isJsonSchema": true,
       "metadata": {
        "createTempViewForImplicitDf": true,
        "dataframeName": "_sqldf",
        "executionCount": 65
       },
       "overflow": false,
       "plotOptions": {
        "customPlotOptions": {},
        "displayType": "table",
        "pivotAggregation": null,
        "pivotColumns": null,
        "xColumns": null,
        "yColumns": null
       },
       "removedWidgets": [],
       "schema": [
        {
         "metadata": "{}",
         "name": "num_affected_rows",
         "type": "\"long\""
        },
        {
         "metadata": "{}",
         "name": "num_inserted_rows",
         "type": "\"long\""
        }
       ],
       "type": "table"
      }
     },
     "output_type": "display_data"
    }
   ],
   "source": [
    "%sql\n",
    "-- Create DateTime Dimension Table for trips\n",
    "CREATE OR REPLACE TABLE dim_date (\n",
    "    date_sk BIGINT GENERATED ALWAYS AS IDENTITY, \n",
    "    datetime_id TIMESTAMP,\n",
    "    date_id DATE,\n",
    "    time_id STRING,                     -- Format: HH:mm\n",
    "    \n",
    "    -- Time Components\n",
    "    hour_24 INT,                        -- 0-23\n",
    "    time_of_day_name STRING,            -- Early Morning, Morning, Afternoon, Evening, Night\n",
    "    is_peak_time STRING,                -- Y/N (customizable peak hours)\n",
    "    \n",
    "    -- Calendar Components\n",
    "    calendar_year INT,\n",
    "    calendar_quarter INT,\n",
    "    calendar_quarter_name STRING,       -- Q1, Q2, Q3, Q4\n",
    "    \n",
    "    -- Month\n",
    "    calendar_month INT,                 -- 1 to 12\n",
    "    calendar_month_name STRING,         -- January, February, etc.\n",
    "    \n",
    "    -- Day\n",
    "    calendar_day INT,                   -- 1 to 31\n",
    "    calendar_day_name STRING,           -- Sunday, Monday, etc.\n",
    "\n",
    "    -- Flags\n",
    "    week_day_flag STRING,               -- Y/N\n",
    "    weekend_flag STRING,                -- Y/N\n",
    "    holiday_flag STRING,                -- Y/N\n",
    "    holiday_name STRING,\n",
    "    \n",
    "    -- Business Period\n",
    "    fiscal_year INT,\n",
    "    fiscal_quarter INT,\n",
    "    fiscal_quarter_name STRING,\n",
    "    fiscal_month INT,\n",
    "    \n",
    "    -- Additional Flags\n",
    "    end_of_quarter_flag STRING,         -- Y/N\n",
    "    end_of_year_flag STRING             -- Y/N\n",
    ") USING DELTA;\n",
    "\n",
    "-- Generate datetime sequence and populate the dimension table\n",
    "WITH datetime_range AS (\n",
    "    SELECT DISTINCT full_datetime\n",
    "    FROM (\n",
    "        SELECT DISTINCT started_at AS full_datetime FROM trip\n",
    "        UNION ALL\n",
    "        SELECT DISTINCT ended_at AS full_datetime FROM trip\n",
    "        UNION ALL\n",
    "        SELECT DISTINCT CAST(date AS TIMESTAMP) AS full_datetime FROM payment\n",
    "    )\n",
    ")\n",
    "INSERT INTO dim_date (\n",
    "    datetime_id,\n",
    "    date_id,\n",
    "    time_id,\n",
    "    hour_24,\n",
    "    time_of_day_name,\n",
    "    is_peak_time,\n",
    "    calendar_year,\n",
    "    calendar_quarter,\n",
    "    calendar_quarter_name,\n",
    "    calendar_month,\n",
    "    calendar_month_name,\n",
    "    calendar_day,\n",
    "    calendar_day_name,\n",
    "    week_day_flag,\n",
    "    weekend_flag,\n",
    "    holiday_flag,\n",
    "    holiday_name,\n",
    "    fiscal_year,\n",
    "    fiscal_quarter,\n",
    "    fiscal_quarter_name,\n",
    "    fiscal_month,\n",
    "    end_of_quarter_flag,\n",
    "    end_of_year_flag\n",
    ")\n",
    "SELECT\n",
    "    full_datetime AS datetime_id,\n",
    "    TO_DATE(full_datetime) AS date_id,\n",
    "    DATE_FORMAT(full_datetime, 'HH:mm') AS time_id,\n",
    "    HOUR(full_datetime) AS hour_24,\n",
    "    CASE \n",
    "        WHEN HOUR(full_datetime) BETWEEN 0 AND 4 THEN 'Late Night'\n",
    "        WHEN HOUR(full_datetime) BETWEEN 5 AND 8 THEN 'Early Morning'\n",
    "        WHEN HOUR(full_datetime) BETWEEN 9 AND 11 THEN 'Morning'\n",
    "        WHEN HOUR(full_datetime) BETWEEN 12 AND 16 THEN 'Afternoon'\n",
    "        WHEN HOUR(full_datetime) BETWEEN 17 AND 20 THEN 'Evening'\n",
    "        ELSE 'Night'\n",
    "    END AS time_of_day_name,\n",
    "    CASE \n",
    "        WHEN HOUR(full_datetime) BETWEEN 7 AND 9 \n",
    "          OR HOUR(full_datetime) BETWEEN 16 AND 18 THEN 'Y'\n",
    "        ELSE 'N'\n",
    "    END AS is_peak_time,\n",
    "    YEAR(full_datetime) AS calendar_year,\n",
    "    QUARTER(full_datetime) AS calendar_quarter,\n",
    "    CONCAT('Q', QUARTER(full_datetime)) AS calendar_quarter_name,\n",
    "    MONTH(full_datetime) AS calendar_month,\n",
    "    DATE_FORMAT(full_datetime, 'MMMM') AS calendar_month_name,\n",
    "    DAYOFMONTH(full_datetime) AS calendar_day,\n",
    "    DATE_FORMAT(full_datetime, 'EEEE') AS calendar_day_name,\n",
    "    CASE \n",
    "        WHEN DAYOFWEEK(full_datetime) BETWEEN 2 AND 6 THEN 'Y'\n",
    "        ELSE 'N'\n",
    "    END AS week_day_flag,\n",
    "    CASE \n",
    "        WHEN DAYOFWEEK(full_datetime) IN (1, 7) THEN 'Y'\n",
    "        ELSE 'N'\n",
    "    END AS weekend_flag,\n",
    "    CASE \n",
    "        WHEN DATE_FORMAT(full_datetime, 'MMdd') IN ('0101', '0704', '1225', '1231') THEN 'Y'\n",
    "        ELSE 'N'\n",
    "    END AS holiday_flag,\n",
    "    CASE \n",
    "        WHEN DATE_FORMAT(full_datetime, 'MMdd') = '0101' THEN 'New Year''s Day'\n",
    "        WHEN DATE_FORMAT(full_datetime, 'MMdd') = '0704' THEN 'Independence Day'\n",
    "        WHEN DATE_FORMAT(full_datetime, 'MMdd') = '1225' THEN 'Christmas Day'\n",
    "        WHEN DATE_FORMAT(full_datetime, 'MMdd') = '1231' THEN 'New Year''s Eve'\n",
    "        ELSE NULL\n",
    "    END AS holiday_name,\n",
    "    CASE \n",
    "        WHEN MONTH(full_datetime) >= 4 THEN YEAR(full_datetime)\n",
    "        ELSE YEAR(full_datetime) - 1\n",
    "    END AS fiscal_year,\n",
    "    CASE \n",
    "        WHEN MONTH(full_datetime) BETWEEN 4 AND 6 THEN 1\n",
    "        WHEN MONTH(full_datetime) BETWEEN 7 AND 9 THEN 2\n",
    "        WHEN MONTH(full_datetime) BETWEEN 10 AND 12 THEN 3\n",
    "        ELSE 4\n",
    "    END AS fiscal_quarter,\n",
    "    CASE \n",
    "        WHEN MONTH(full_datetime) BETWEEN 4 AND 6 THEN 'Q1'\n",
    "        WHEN MONTH(full_datetime) BETWEEN 7 AND 9 THEN 'Q2'\n",
    "        WHEN MONTH(full_datetime) BETWEEN 10 AND 12 THEN 'Q3'\n",
    "        ELSE 'Q4'\n",
    "    END AS fiscal_quarter_name,\n",
    "    CASE \n",
    "        WHEN MONTH(full_datetime) >= 4 THEN MONTH(full_datetime) - 3\n",
    "        ELSE MONTH(full_datetime) + 9\n",
    "    END AS fiscal_month,\n",
    "    CASE \n",
    "        WHEN MONTH(full_datetime) IN (3, 6, 9, 12) AND \n",
    "             DAYOFMONTH(full_datetime) = DAY(LAST_DAY(full_datetime)) THEN 'Y'\n",
    "        ELSE 'N'\n",
    "    END AS end_of_quarter_flag,\n",
    "    CASE \n",
    "        WHEN MONTH(full_datetime) = 12 AND \n",
    "             DAYOFMONTH(full_datetime) = 31 THEN 'Y'\n",
    "        ELSE 'N'\n",
    "    END AS end_of_year_flag\n",
    "FROM datetime_range;\n"
   ]
  },
  {
   "cell_type": "code",
   "execution_count": 0,
   "metadata": {
    "application/vnd.databricks.v1+cell": {
     "cellMetadata": {
      "byteLimit": 2048000,
      "implicitDf": true,
      "rowLimit": 10000
     },
     "inputWidgets": {},
     "nuid": "eee64344-350c-40bb-abab-8412f3b96eca",
     "showTitle": false,
     "tableResultSettingsMap": {},
     "title": ""
    }
   },
   "outputs": [
    {
     "output_type": "display_data",
     "data": {
      "text/html": [
       "<style scoped>\n",
       "  .table-result-container {\n",
       "    max-height: 300px;\n",
       "    overflow: auto;\n",
       "  }\n",
       "  table, th, td {\n",
       "    border: 1px solid black;\n",
       "    border-collapse: collapse;\n",
       "  }\n",
       "  th, td {\n",
       "    padding: 5px;\n",
       "  }\n",
       "  th {\n",
       "    text-align: left;\n",
       "  }\n",
       "</style><div class='table-result-container'><table class='table-result'><thead style='background-color: white'><tr><th>path</th><th>metrics</th></tr></thead><tbody><tr><td>abfss://unity-catalog-storage@dbstorageu5dkpujmn7ulo.dfs.core.windows.net/4006262863301269/__unitystorage/catalogs/ffab9ea6-89fc-42e2-aa27-831965571766/tables/d141b830-57da-4921-ab3f-4cb710b2900c</td><td>List(0, 0, List(null, null, 0.0, 0, 0), List(null, null, 0.0, 0, 0), 462, List(minCubeSize(107374182400), List(0, 0), List(462, 70749316), 0, List(0, 0), 0, null), null, 0, 0, 462, 462, false, 0, 0, 1732441138631, 1732441140510, 8, 0, null, List(0, 0), 23, 23, 0, 0, null)</td></tr></tbody></table></div>"
      ]
     },
     "metadata": {
      "application/vnd.databricks.v1+output": {
       "addedWidgets": {},
       "aggData": [],
       "aggError": "",
       "aggOverflow": false,
       "aggSchema": [],
       "aggSeriesLimitReached": false,
       "aggType": "",
       "arguments": {},
       "columnCustomDisplayInfos": {},
       "data": [
        [
         "abfss://unity-catalog-storage@dbstorageu5dkpujmn7ulo.dfs.core.windows.net/4006262863301269/__unitystorage/catalogs/ffab9ea6-89fc-42e2-aa27-831965571766/tables/d141b830-57da-4921-ab3f-4cb710b2900c",
         [
          0,
          0,
          [
           null,
           null,
           0.0,
           0,
           0
          ],
          [
           null,
           null,
           0.0,
           0,
           0
          ],
          462,
          [
           "minCubeSize(107374182400)",
           [
            0,
            0
           ],
           [
            462,
            70749316
           ],
           0,
           [
            0,
            0
           ],
           0,
           null
          ],
          null,
          0,
          0,
          462,
          462,
          false,
          0,
          0,
          1732441138631,
          1732441140510,
          8,
          0,
          null,
          [
           0,
           0
          ],
          23,
          23,
          0,
          0,
          null
         ]
        ]
       ],
       "datasetInfos": [],
       "dbfsResultPath": null,
       "isJsonSchema": true,
       "metadata": {
        "createTempViewForImplicitDf": true,
        "dataframeName": "_sqldf",
        "executionCount": 67
       },
       "overflow": false,
       "plotOptions": {
        "customPlotOptions": {},
        "displayType": "table",
        "pivotAggregation": null,
        "pivotColumns": null,
        "xColumns": null,
        "yColumns": null
       },
       "removedWidgets": [],
       "schema": [
        {
         "metadata": "{}",
         "name": "path",
         "type": "\"string\""
        },
        {
         "metadata": "{}",
         "name": "metrics",
         "type": "{\"type\":\"struct\",\"fields\":[{\"name\":\"numFilesAdded\",\"type\":\"long\",\"nullable\":false,\"metadata\":{}},{\"name\":\"numFilesRemoved\",\"type\":\"long\",\"nullable\":false,\"metadata\":{}},{\"name\":\"filesAdded\",\"type\":{\"type\":\"struct\",\"fields\":[{\"name\":\"min\",\"type\":\"long\",\"nullable\":true,\"metadata\":{}},{\"name\":\"max\",\"type\":\"long\",\"nullable\":true,\"metadata\":{}},{\"name\":\"avg\",\"type\":\"double\",\"nullable\":false,\"metadata\":{}},{\"name\":\"totalFiles\",\"type\":\"long\",\"nullable\":false,\"metadata\":{}},{\"name\":\"totalSize\",\"type\":\"long\",\"nullable\":false,\"metadata\":{}}]},\"nullable\":true,\"metadata\":{}},{\"name\":\"filesRemoved\",\"type\":{\"type\":\"struct\",\"fields\":[{\"name\":\"min\",\"type\":\"long\",\"nullable\":true,\"metadata\":{}},{\"name\":\"max\",\"type\":\"long\",\"nullable\":true,\"metadata\":{}},{\"name\":\"avg\",\"type\":\"double\",\"nullable\":false,\"metadata\":{}},{\"name\":\"totalFiles\",\"type\":\"long\",\"nullable\":false,\"metadata\":{}},{\"name\":\"totalSize\",\"type\":\"long\",\"nullable\":false,\"metadata\":{}}]},\"nullable\":true,\"metadata\":{}},{\"name\":\"partitionsOptimized\",\"type\":\"long\",\"nullable\":false,\"metadata\":{}},{\"name\":\"zOrderStats\",\"type\":{\"type\":\"struct\",\"fields\":[{\"name\":\"strategyName\",\"type\":\"string\",\"nullable\":true,\"metadata\":{}},{\"name\":\"inputCubeFiles\",\"type\":{\"type\":\"struct\",\"fields\":[{\"name\":\"num\",\"type\":\"long\",\"nullable\":false,\"metadata\":{}},{\"name\":\"size\",\"type\":\"long\",\"nullable\":false,\"metadata\":{}}]},\"nullable\":true,\"metadata\":{}},{\"name\":\"inputOtherFiles\",\"type\":{\"type\":\"struct\",\"fields\":[{\"name\":\"num\",\"type\":\"long\",\"nullable\":false,\"metadata\":{}},{\"name\":\"size\",\"type\":\"long\",\"nullable\":false,\"metadata\":{}}]},\"nullable\":true,\"metadata\":{}},{\"name\":\"inputNumCubes\",\"type\":\"long\",\"nullable\":false,\"metadata\":{}},{\"name\":\"mergedFiles\",\"type\":{\"type\":\"struct\",\"fields\":[{\"name\":\"num\",\"type\":\"long\",\"nullable\":false,\"metadata\":{}},{\"name\":\"size\",\"type\":\"long\",\"nullable\":false,\"metadata\":{}}]},\"nullable\":true,\"metadata\":{}},{\"name\":\"numOutputCubes\",\"type\":\"long\",\"nullable\":false,\"metadata\":{}},{\"name\":\"mergedNumCubes\",\"type\":\"long\",\"nullable\":true,\"metadata\":{}}]},\"nullable\":true,\"metadata\":{}},{\"name\":\"clusteringStats\",\"type\":{\"type\":\"struct\",\"fields\":[{\"name\":\"inputZCubeFiles\",\"type\":{\"type\":\"struct\",\"fields\":[{\"name\":\"numFiles\",\"type\":\"long\",\"nullable\":false,\"metadata\":{}},{\"name\":\"size\",\"type\":\"long\",\"nullable\":false,\"metadata\":{}}]},\"nullable\":true,\"metadata\":{}},{\"name\":\"inputOtherFiles\",\"type\":{\"type\":\"struct\",\"fields\":[{\"name\":\"numFiles\",\"type\":\"long\",\"nullable\":false,\"metadata\":{}},{\"name\":\"size\",\"type\":\"long\",\"nullable\":false,\"metadata\":{}}]},\"nullable\":true,\"metadata\":{}},{\"name\":\"inputNumZCubes\",\"type\":\"long\",\"nullable\":false,\"metadata\":{}},{\"name\":\"mergedFiles\",\"type\":{\"type\":\"struct\",\"fields\":[{\"name\":\"numFiles\",\"type\":\"long\",\"nullable\":false,\"metadata\":{}},{\"name\":\"size\",\"type\":\"long\",\"nullable\":false,\"metadata\":{}}]},\"nullable\":true,\"metadata\":{}},{\"name\":\"numOutputZCubes\",\"type\":\"long\",\"nullable\":false,\"metadata\":{}}]},\"nullable\":true,\"metadata\":{}},{\"name\":\"numBins\",\"type\":\"long\",\"nullable\":false,\"metadata\":{}},{\"name\":\"numBatches\",\"type\":\"long\",\"nullable\":false,\"metadata\":{}},{\"name\":\"totalConsideredFiles\",\"type\":\"long\",\"nullable\":false,\"metadata\":{}},{\"name\":\"totalFilesSkipped\",\"type\":\"long\",\"nullable\":false,\"metadata\":{}},{\"name\":\"preserveInsertionOrder\",\"type\":\"boolean\",\"nullable\":false,\"metadata\":{}},{\"name\":\"numFilesSkippedToReduceWriteAmplification\",\"type\":\"long\",\"nullable\":false,\"metadata\":{}},{\"name\":\"numBytesSkippedToReduceWriteAmplification\",\"type\":\"long\",\"nullable\":false,\"metadata\":{}},{\"name\":\"startTimeMs\",\"type\":\"long\",\"nullable\":false,\"metadata\":{}},{\"name\":\"endTimeMs\",\"type\":\"long\",\"nullable\":false,\"metadata\":{}},{\"name\":\"totalClusterParallelism\",\"type\":\"long\",\"nullable\":false,\"metadata\":{}},{\"name\":\"totalScheduledTasks\",\"type\":\"long\",\"nullable\":false,\"metadata\":{}},{\"name\":\"autoCompactParallelismStats\",\"type\":{\"type\":\"struct\",\"fields\":[{\"name\":\"maxClusterActiveParallelism\",\"type\":\"long\",\"nullable\":true,\"metadata\":{}},{\"name\":\"minClusterActiveParallelism\",\"type\":\"long\",\"nullable\":true,\"metadata\":{}},{\"name\":\"maxSessionActiveParallelism\",\"type\":\"long\",\"nullable\":true,\"metadata\":{}},{\"name\":\"minSessionActiveParallelism\",\"type\":\"long\",\"nullable\":true,\"metadata\":{}}]},\"nullable\":true,\"metadata\":{}},{\"name\":\"deletionVectorStats\",\"type\":{\"type\":\"struct\",\"fields\":[{\"name\":\"numDeletionVectorsRemoved\",\"type\":\"long\",\"nullable\":false,\"metadata\":{}},{\"name\":\"numDeletionVectorRowsRemoved\",\"type\":\"long\",\"nullable\":false,\"metadata\":{}}]},\"nullable\":true,\"metadata\":{}},{\"name\":\"numTableColumns\",\"type\":\"long\",\"nullable\":false,\"metadata\":{}},{\"name\":\"numTableColumnsWithStats\",\"type\":\"long\",\"nullable\":false,\"metadata\":{}},{\"name\":\"totalTaskExecutionTimeMs\",\"type\":\"long\",\"nullable\":false,\"metadata\":{}},{\"name\":\"skippedArchivedFiles\",\"type\":\"long\",\"nullable\":false,\"metadata\":{}},{\"name\":\"clusteringMetrics\",\"type\":{\"type\":\"struct\",\"fields\":[{\"name\":\"sizeOfTableInBytesBeforeLazyClustering\",\"type\":\"long\",\"nullable\":false,\"metadata\":{}},{\"name\":\"isNewMetadataCreated\",\"type\":\"boolean\",\"nullable\":false,\"metadata\":{}},{\"name\":\"isPOTriggered\",\"type\":\"boolean\",\"nullable\":false,\"metadata\":{}},{\"name\":\"numFilesSkippedWithoutStats\",\"type\":\"long\",\"nullable\":false,\"metadata\":{}},{\"name\":\"numFilesClassifiedToIntermediateNodes\",\"type\":\"long\",\"nullable\":false,\"metadata\":{}},{\"name\":\"sizeOfFilesClassifiedToIntermediateNodesInBytes\",\"type\":\"long\",\"nullable\":false,\"metadata\":{}},{\"name\":\"logicalSizeOfFilesClassifiedToIntermediateNodesInBytes\",\"type\":\"long\",\"nullable\":false,\"metadata\":{}},{\"name\":\"numFilesClassifiedToLeafNodes\",\"type\":\"long\",\"nullable\":false,\"metadata\":{}},{\"name\":\"sizeOfFilesClassifiedToLeafNodesInBytes\",\"type\":\"long\",\"nullable\":false,\"metadata\":{}},{\"name\":\"logicalSizeOfFilesClassifiedToLeafNodesInBytes\",\"type\":\"long\",\"nullable\":false,\"metadata\":{}},{\"name\":\"numThreadsForClassifier\",\"type\":\"integer\",\"nullable\":true,\"metadata\":{}},{\"name\":\"clusterThresholdStrategy\",\"type\":\"string\",\"nullable\":true,\"metadata\":{}},{\"name\":\"minFileSize\",\"type\":\"long\",\"nullable\":false,\"metadata\":{}},{\"name\":\"maxFileSize\",\"type\":\"long\",\"nullable\":false,\"metadata\":{}},{\"name\":\"nodeMinNumFilesToCompact\",\"type\":\"long\",\"nullable\":false,\"metadata\":{}},{\"name\":\"numIdealFiles\",\"type\":\"long\",\"nullable\":false,\"metadata\":{}},{\"name\":\"numClusteringTasksPlanned\",\"type\":\"integer\",\"nullable\":false,\"metadata\":{}},{\"name\":\"numCompactionTasksPlanned\",\"type\":\"integer\",\"nullable\":false,\"metadata\":{}},{\"name\":\"numOptimizeBatchesPlanned\",\"type\":\"integer\",\"nullable\":false,\"metadata\":{}},{\"name\":\"numLeafNodesExpanded\",\"type\":\"long\",\"nullable\":false,\"metadata\":{}},{\"name\":\"numLeafNodesClustered\",\"type\":\"long\",\"nullable\":false,\"metadata\":{}},{\"name\":\"numGetFilesForNodeCalls\",\"type\":\"long\",\"nullable\":false,\"metadata\":{}},{\"name\":\"numSamplingJobs\",\"type\":\"long\",\"nullable\":false,\"metadata\":{}},{\"name\":\"numLeafNodesCompacted\",\"type\":\"long\",\"nullable\":false,\"metadata\":{}},{\"name\":\"numIntermediateNodesCompacted\",\"type\":\"long\",\"nullable\":false,\"metadata\":{}},{\"name\":\"totalSizeOfDataToCompactInBytes\",\"type\":\"long\",\"nullable\":false,\"metadata\":{}},{\"name\":\"totalLogicalSizeOfDataToCompactInBytes\",\"type\":\"long\",\"nullable\":false,\"metadata\":{}},{\"name\":\"numIntermediateNodesClustered\",\"type\":\"long\",\"nullable\":false,\"metadata\":{}},{\"name\":\"numFilesSkippedAfterExpansion\",\"type\":\"long\",\"nullable\":false,\"metadata\":{}},{\"name\":\"totalSizeOfFilesSkippedAfterExpansionInBytes\",\"type\":\"long\",\"nullable\":false,\"metadata\":{}},{\"name\":\"totalLogicalSizeOfFilesSkippedAfterExpansionInBytes\",\"type\":\"long\",\"nullable\":false,\"metadata\":{}},{\"name\":\"totalSizeOfDataToRewriteInBytes\",\"type\":\"long\",\"nullable\":false,\"metadata\":{}},{\"name\":\"totalLogicalSizeOfDataToRewriteInBytes\",\"type\":\"long\",\"nullable\":false,\"metadata\":{}},{\"name\":\"timeMetrics\",\"type\":{\"type\":\"struct\",\"fields\":[{\"name\":\"classifierTimeMs\",\"type\":\"long\",\"nullable\":false,\"metadata\":{}},{\"name\":\"optimizerTimeMs\",\"type\":\"long\",\"nullable\":false,\"metadata\":{}},{\"name\":\"metadataLoadTimeMs\",\"type\":\"long\",\"nullable\":false,\"metadata\":{}},{\"name\":\"totalGetFilesForNodeCallsTimeMs\",\"type\":\"long\",\"nullable\":false,\"metadata\":{}},{\"name\":\"totalSamplingTimeMs\",\"type\":\"long\",\"nullable\":false,\"metadata\":{}},{\"name\":\"metadataCreationTimeMs\",\"type\":\"long\",\"nullable\":false,\"metadata\":{}}]},\"nullable\":true,\"metadata\":{}},{\"name\":\"maxOptimizeBatchesInParallel\",\"type\":\"long\",\"nullable\":false,\"metadata\":{}},{\"name\":\"currentIteration\",\"type\":\"integer\",\"nullable\":false,\"metadata\":{}},{\"name\":\"maxIterations\",\"type\":\"integer\",\"nullable\":false,\"metadata\":{}},{\"name\":\"clusteringStrategy\",\"type\":\"string\",\"nullable\":true,\"metadata\":{}}]},\"nullable\":true,\"metadata\":{}}]}"
        }
       ],
       "type": "table"
      }
     },
     "output_type": "display_data"
    }
   ],
   "source": [
    "%sql\n",
    "-- Create partitioned and optimized dim_date table\n",
    "CREATE OR REPLACE TABLE dim_date\n",
    "USING DELTA\n",
    "PARTITIONED BY (date_id)\n",
    "AS\n",
    "SELECT \n",
    "    datetime_id,\n",
    "    date_id,\n",
    "    time_id,\n",
    "    hour_24,\n",
    "    time_of_day_name,\n",
    "    is_peak_time,\n",
    "    calendar_year,\n",
    "    calendar_quarter,\n",
    "    calendar_quarter_name,\n",
    "    calendar_month,\n",
    "    calendar_month_name,\n",
    "    calendar_day,\n",
    "    calendar_day_name,\n",
    "    week_day_flag,\n",
    "    weekend_flag,\n",
    "    holiday_flag,\n",
    "    holiday_name,\n",
    "    fiscal_year,\n",
    "    fiscal_quarter,\n",
    "    fiscal_quarter_name,\n",
    "    fiscal_month,\n",
    "    end_of_quarter_flag,\n",
    "    end_of_year_flag\n",
    "FROM dim_date;\n",
    "\n",
    "-- Z-ORDER the table by datetime_id\n",
    "OPTIMIZE dim_date\n",
    "ZORDER BY (datetime_id);\n",
    "\n"
   ]
  },
  {
   "cell_type": "markdown",
   "metadata": {
    "application/vnd.databricks.v1+cell": {
     "cellMetadata": {},
     "inputWidgets": {},
     "nuid": "6fac4c4b-59e6-4dc7-ad43-6a6f74b4b66a",
     "showTitle": false,
     "tableResultSettingsMap": {},
     "title": ""
    }
   },
   "source": [
    "## Payment Fact Table"
   ]
  },
  {
   "cell_type": "code",
   "execution_count": 0,
   "metadata": {
    "application/vnd.databricks.v1+cell": {
     "cellMetadata": {
      "byteLimit": 2048000,
      "implicitDf": true,
      "rowLimit": 10000
     },
     "inputWidgets": {},
     "nuid": "47d0cc96-6b1e-4fe3-8294-fd5ee15d965a",
     "showTitle": false,
     "tableResultSettingsMap": {},
     "title": ""
    }
   },
   "outputs": [
    {
     "output_type": "display_data",
     "data": {
      "text/html": [
       "<style scoped>\n",
       "  .table-result-container {\n",
       "    max-height: 300px;\n",
       "    overflow: auto;\n",
       "  }\n",
       "  table, th, td {\n",
       "    border: 1px solid black;\n",
       "    border-collapse: collapse;\n",
       "  }\n",
       "  th, td {\n",
       "    padding: 5px;\n",
       "  }\n",
       "  th {\n",
       "    text-align: left;\n",
       "  }\n",
       "</style><div class='table-result-container'><table class='table-result'><thead style='background-color: white'><tr><th>num_affected_rows</th><th>num_inserted_rows</th></tr></thead><tbody><tr><td>1946607</td><td>1946607</td></tr></tbody></table></div>"
      ]
     },
     "metadata": {
      "application/vnd.databricks.v1+output": {
       "addedWidgets": {},
       "aggData": [],
       "aggError": "",
       "aggOverflow": false,
       "aggSchema": [],
       "aggSeriesLimitReached": false,
       "aggType": "",
       "arguments": {},
       "columnCustomDisplayInfos": {},
       "data": [
        [
         1946607,
         1946607
        ]
       ],
       "datasetInfos": [],
       "dbfsResultPath": null,
       "isJsonSchema": true,
       "metadata": {
        "createTempViewForImplicitDf": true,
        "dataframeName": "_sqldf",
        "executionCount": 69
       },
       "overflow": false,
       "plotOptions": {
        "customPlotOptions": {},
        "displayType": "table",
        "pivotAggregation": null,
        "pivotColumns": null,
        "xColumns": null,
        "yColumns": null
       },
       "removedWidgets": [],
       "schema": [
        {
         "metadata": "{}",
         "name": "num_affected_rows",
         "type": "\"long\""
        },
        {
         "metadata": "{}",
         "name": "num_inserted_rows",
         "type": "\"long\""
        }
       ],
       "type": "table"
      }
     },
     "output_type": "display_data"
    }
   ],
   "source": [
    "%sql\n",
    "-- Create Payment Fact Table\n",
    "drop table if exists fact_payment;\n",
    "create table fact_payment (\n",
    "    payment_sk bigint generated always as identity,  -- Surrogate key\n",
    "    payment_id int,                                 -- Natural/business key\n",
    "    payment_date date,\n",
    "    rider_id bigint,\n",
    "    payment_amount decimal(10, 2),                  -- Facts/measures\n",
    "    created_timestamp timestamp,\n",
    "    created_by varchar(50)\n",
    ") using delta;\n",
    "\n",
    "-- Populate Payment Fact Table with optimized joins\n",
    "INSERT INTO fact_payment (payment_id, payment_date, rider_id, payment_amount, created_timestamp, created_by)\n",
    "SELECT \n",
    "    p.payment_id,\n",
    "    p.`date` AS payment_date,\n",
    "    r.rider_id,\n",
    "    p.amount AS payment_amount,\n",
    "    current_timestamp() AS created_timestamp,\n",
    "    'SYSTEM' AS created_by\n",
    "FROM payment p\n",
    "INNER JOIN dim_rider r ON p.rider_id = r.rider_id\n"
   ]
  },
  {
   "cell_type": "code",
   "execution_count": 0,
   "metadata": {
    "application/vnd.databricks.v1+cell": {
     "cellMetadata": {
      "byteLimit": 2048000,
      "implicitDf": true,
      "rowLimit": 10000
     },
     "inputWidgets": {},
     "nuid": "d5217894-4320-43f6-a370-4a21866918c0",
     "showTitle": false,
     "tableResultSettingsMap": {},
     "title": ""
    }
   },
   "outputs": [
    {
     "output_type": "display_data",
     "data": {
      "text/html": [
       "<style scoped>\n",
       "  .table-result-container {\n",
       "    max-height: 300px;\n",
       "    overflow: auto;\n",
       "  }\n",
       "  table, th, td {\n",
       "    border: 1px solid black;\n",
       "    border-collapse: collapse;\n",
       "  }\n",
       "  th, td {\n",
       "    padding: 5px;\n",
       "  }\n",
       "  th {\n",
       "    text-align: left;\n",
       "  }\n",
       "</style><div class='table-result-container'><table class='table-result'><thead style='background-color: white'><tr><th>payment_sk</th><th>payment_id</th><th>payment_date</th><th>rider_id</th><th>payment_amount</th><th>created_timestamp</th><th>created_by</th></tr></thead><tbody><tr><td>1</td><td>303070</td><td>2013-02-01</td><td>12687</td><td>12.90</td><td>2024-11-24T09:45:44.289Z</td><td>SYSTEM</td></tr><tr><td>2</td><td>1019993</td><td>2013-03-01</td><td>40408</td><td>9.00</td><td>2024-11-24T09:45:44.289Z</td><td>SYSTEM</td></tr><tr><td>3</td><td>1023993</td><td>2013-03-01</td><td>40565</td><td>9.00</td><td>2024-11-24T09:45:44.289Z</td><td>SYSTEM</td></tr><tr><td>4</td><td>1077572</td><td>2013-03-01</td><td>42593</td><td>9.00</td><td>2024-11-24T09:45:44.289Z</td><td>SYSTEM</td></tr><tr><td>5</td><td>1083874</td><td>2013-03-01</td><td>42824</td><td>9.00</td><td>2024-11-24T09:45:44.289Z</td><td>SYSTEM</td></tr></tbody></table></div>"
      ]
     },
     "metadata": {
      "application/vnd.databricks.v1+output": {
       "addedWidgets": {},
       "aggData": [],
       "aggError": "",
       "aggOverflow": false,
       "aggSchema": [],
       "aggSeriesLimitReached": false,
       "aggType": "",
       "arguments": {},
       "columnCustomDisplayInfos": {},
       "data": [
        [
         1,
         303070,
         "2013-02-01",
         12687,
         "12.90",
         "2024-11-24T09:45:44.289Z",
         "SYSTEM"
        ],
        [
         2,
         1019993,
         "2013-03-01",
         40408,
         "9.00",
         "2024-11-24T09:45:44.289Z",
         "SYSTEM"
        ],
        [
         3,
         1023993,
         "2013-03-01",
         40565,
         "9.00",
         "2024-11-24T09:45:44.289Z",
         "SYSTEM"
        ],
        [
         4,
         1077572,
         "2013-03-01",
         42593,
         "9.00",
         "2024-11-24T09:45:44.289Z",
         "SYSTEM"
        ],
        [
         5,
         1083874,
         "2013-03-01",
         42824,
         "9.00",
         "2024-11-24T09:45:44.289Z",
         "SYSTEM"
        ]
       ],
       "datasetInfos": [],
       "dbfsResultPath": null,
       "isJsonSchema": true,
       "metadata": {
        "createTempViewForImplicitDf": true,
        "dataframeName": "_sqldf",
        "executionCount": 13
       },
       "overflow": false,
       "plotOptions": {
        "customPlotOptions": {},
        "displayType": "table",
        "pivotAggregation": null,
        "pivotColumns": null,
        "xColumns": null,
        "yColumns": null
       },
       "removedWidgets": [],
       "schema": [
        {
         "metadata": "{}",
         "name": "payment_sk",
         "type": "\"long\""
        },
        {
         "metadata": "{}",
         "name": "payment_id",
         "type": "\"integer\""
        },
        {
         "metadata": "{}",
         "name": "payment_date",
         "type": "\"date\""
        },
        {
         "metadata": "{}",
         "name": "rider_id",
         "type": "\"long\""
        },
        {
         "metadata": "{}",
         "name": "payment_amount",
         "type": "\"decimal(10,2)\""
        },
        {
         "metadata": "{}",
         "name": "created_timestamp",
         "type": "\"timestamp\""
        },
        {
         "metadata": "{\"__CHAR_VARCHAR_TYPE_STRING\":\"varchar(50)\"}",
         "name": "created_by",
         "type": "\"string\""
        }
       ],
       "type": "table"
      }
     },
     "output_type": "display_data"
    }
   ],
   "source": [
    "%sql\n",
    "use catalog `research_databricks_workspace`; select * from `default`.`fact_payment` limit 5;"
   ]
  },
  {
   "cell_type": "code",
   "execution_count": 0,
   "metadata": {
    "application/vnd.databricks.v1+cell": {
     "cellMetadata": {},
     "collapsed": true,
     "inputWidgets": {},
     "nuid": "c5584c4e-595e-4aa4-b075-ab67a4f0c1d9",
     "showTitle": false,
     "tableResultSettingsMap": {},
     "title": ""
    }
   },
   "outputs": [
    {
     "output_type": "display_data",
     "data": {
      "text/html": [
       "<style scoped>\n",
       "  .table-result-container {\n",
       "    max-height: 300px;\n",
       "    overflow: auto;\n",
       "  }\n",
       "  table, th, td {\n",
       "    border: 1px solid black;\n",
       "    border-collapse: collapse;\n",
       "  }\n",
       "  th, td {\n",
       "    padding: 5px;\n",
       "  }\n",
       "  th {\n",
       "    text-align: left;\n",
       "  }\n",
       "</style><div class='table-result-container'><table class='table-result'><thead style='background-color: white'><tr><th>records_count</th><th>distinct_payments</th></tr></thead><tbody><tr><td>1946607</td><td>1946607</td></tr></tbody></table></div>"
      ]
     },
     "metadata": {
      "application/vnd.databricks.v1+output": {
       "addedWidgets": {},
       "aggData": [],
       "aggError": "",
       "aggOverflow": false,
       "aggSchema": [],
       "aggSeriesLimitReached": false,
       "aggType": "",
       "arguments": {},
       "columnCustomDisplayInfos": {},
       "data": [
        [
         1946607,
         1946607
        ]
       ],
       "datasetInfos": [],
       "dbfsResultPath": null,
       "isJsonSchema": true,
       "metadata": {
        "createTempViewForImplicitDf": true,
        "dataframeName": "_sqldf",
        "executionCount": 45
       },
       "overflow": false,
       "plotOptions": {
        "customPlotOptions": {},
        "displayType": "table",
        "pivotAggregation": null,
        "pivotColumns": null,
        "xColumns": null,
        "yColumns": null
       },
       "removedWidgets": [],
       "schema": [
        {
         "metadata": "{}",
         "name": "records_count",
         "type": "\"long\""
        },
        {
         "metadata": "{}",
         "name": "distinct_payments",
         "type": "\"long\""
        }
       ],
       "type": "table"
      }
     },
     "output_type": "display_data"
    }
   ],
   "source": [
    "%sql\n",
    "select count(*) as records_count, count(distinct payment_id) as distinct_payments \n",
    "from fact_payment;"
   ]
  },
  {
   "cell_type": "markdown",
   "metadata": {
    "application/vnd.databricks.v1+cell": {
     "cellMetadata": {},
     "inputWidgets": {},
     "nuid": "a73e165b-aa0c-481e-81f4-e70c8d2274d1",
     "showTitle": false,
     "tableResultSettingsMap": {},
     "title": ""
    }
   },
   "source": [
    "## Trip Fact Using PySpark"
   ]
  },
  {
   "cell_type": "code",
   "execution_count": 0,
   "metadata": {
    "application/vnd.databricks.v1+cell": {
     "cellMetadata": {
      "byteLimit": 2048000,
      "rowLimit": 10000
     },
     "inputWidgets": {},
     "nuid": "1ecb64c1-f72c-4f21-82e5-2c515477e01e",
     "showTitle": false,
     "tableResultSettingsMap": {},
     "title": ""
    }
   },
   "outputs": [
    {
     "output_type": "display_data",
     "data": {
      "text/html": [
       "<style scoped>\n",
       "  .table-result-container {\n",
       "    max-height: 300px;\n",
       "    overflow: auto;\n",
       "  }\n",
       "  table, th, td {\n",
       "    border: 1px solid black;\n",
       "    border-collapse: collapse;\n",
       "  }\n",
       "  th, td {\n",
       "    padding: 5px;\n",
       "  }\n",
       "  th {\n",
       "    text-align: left;\n",
       "  }\n",
       "</style><div class='table-result-container'><table class='table-result'><thead style='background-color: white'><tr><th>trip_id</th><th>rider_id</th><th>rideable_type</th><th>start_station_id</th><th>start_station_name</th><th>end_station_id</th><th>end_station_name</th><th>start_time_id</th><th>end_time_id</th><th>duration_in_minutes</th><th>rider_age</th></tr></thead><tbody><tr><td>6EFDB32C10BB3796</td><td>2603</td><td>docked_bike</td><td>13146</td><td>Clark St & Armitage Ave</td><td>13146</td><td>Clark St & Armitage Ave</td><td>2021-07-09T15:20:42Z</td><td>2021-07-09T15:23:16Z</td><td>3.0</td><td>39.0</td></tr><tr><td>DD8ADD31D6960CD3</td><td>26447</td><td>classic_bike</td><td>13146</td><td>Clark St & Armitage Ave</td><td>13146</td><td>Clark St & Armitage Ave</td><td>2021-07-24T12:05:48Z</td><td>2021-07-24T12:27:51Z</td><td>22.0</td><td>36.0</td></tr><tr><td>591169F08465CA9F</td><td>10516</td><td>docked_bike</td><td>13146</td><td>Clark St & Armitage Ave</td><td>13146</td><td>Clark St & Armitage Ave</td><td>2021-07-17T04:42:40Z</td><td>2021-07-17T04:57:16Z</td><td>15.0</td><td>37.0</td></tr><tr><td>24C424E55DB4B85D</td><td>41018</td><td>classic_bike</td><td>13146</td><td>Clark St & Armitage Ave</td><td>13146</td><td>Clark St & Armitage Ave</td><td>2021-07-09T20:09:14Z</td><td>2021-07-09T20:11:03Z</td><td>2.0</td><td>16.0</td></tr><tr><td>7133D3F95D071A5A</td><td>21093</td><td>classic_bike</td><td>13296</td><td>Ashland Ave & Wrightwood Ave</td><td>13146</td><td>Clark St & Armitage Ave</td><td>2021-07-01T16:45:43Z</td><td>2021-07-01T16:57:38Z</td><td>12.0</td><td>31.0</td></tr><tr><td>45A945E964718AA0</td><td>49400</td><td>classic_bike</td><td>13296</td><td>Ashland Ave & Wrightwood Ave</td><td>13146</td><td>Clark St & Armitage Ave</td><td>2021-07-15T18:08:53Z</td><td>2021-07-15T18:23:12Z</td><td>14.0</td><td>23.0</td></tr><tr><td>B5C228AFC20BD3F0</td><td>37485</td><td>classic_bike</td><td>13196</td><td>Carpenter St & Huron St</td><td>13146</td><td>Clark St & Armitage Ave</td><td>2021-07-22T18:12:12Z</td><td>2021-07-22T18:31:03Z</td><td>19.0</td><td>53.0</td></tr><tr><td>FB03057FE1489422</td><td>59834</td><td>classic_bike</td><td>13146</td><td>Clark St & Armitage Ave</td><td>13146</td><td>Clark St & Armitage Ave</td><td>2021-07-17T11:54:50Z</td><td>2021-07-17T11:56:37Z</td><td>2.0</td><td>33.0</td></tr><tr><td>BDE673E69DB2CCDF</td><td>70883</td><td>docked_bike</td><td>605</td><td>University Library (NU)</td><td>605</td><td>University Library (NU)</td><td>2021-07-20T18:40:16Z</td><td>2021-07-20T19:35:39Z</td><td>55.0</td><td>26.0</td></tr><tr><td>DDD461A1EBFDA30E</td><td>72862</td><td>classic_bike</td><td>13146</td><td>Clark St & Armitage Ave</td><td>13146</td><td>Clark St & Armitage Ave</td><td>2021-07-10T14:23:05Z</td><td>2021-07-10T14:24:57Z</td><td>2.0</td><td>31.0</td></tr></tbody></table></div>"
      ]
     },
     "metadata": {
      "application/vnd.databricks.v1+output": {
       "addedWidgets": {},
       "aggData": [],
       "aggError": "",
       "aggOverflow": false,
       "aggSchema": [],
       "aggSeriesLimitReached": false,
       "aggType": "",
       "arguments": {},
       "columnCustomDisplayInfos": {},
       "data": [
        [
         "6EFDB32C10BB3796",
         2603,
         "docked_bike",
         "13146",
         "Clark St & Armitage Ave",
         "13146",
         "Clark St & Armitage Ave",
         "2021-07-09T15:20:42Z",
         "2021-07-09T15:23:16Z",
         3.0,
         39.0
        ],
        [
         "DD8ADD31D6960CD3",
         26447,
         "classic_bike",
         "13146",
         "Clark St & Armitage Ave",
         "13146",
         "Clark St & Armitage Ave",
         "2021-07-24T12:05:48Z",
         "2021-07-24T12:27:51Z",
         22.0,
         36.0
        ],
        [
         "591169F08465CA9F",
         10516,
         "docked_bike",
         "13146",
         "Clark St & Armitage Ave",
         "13146",
         "Clark St & Armitage Ave",
         "2021-07-17T04:42:40Z",
         "2021-07-17T04:57:16Z",
         15.0,
         37.0
        ],
        [
         "24C424E55DB4B85D",
         41018,
         "classic_bike",
         "13146",
         "Clark St & Armitage Ave",
         "13146",
         "Clark St & Armitage Ave",
         "2021-07-09T20:09:14Z",
         "2021-07-09T20:11:03Z",
         2.0,
         16.0
        ],
        [
         "7133D3F95D071A5A",
         21093,
         "classic_bike",
         "13296",
         "Ashland Ave & Wrightwood Ave",
         "13146",
         "Clark St & Armitage Ave",
         "2021-07-01T16:45:43Z",
         "2021-07-01T16:57:38Z",
         12.0,
         31.0
        ],
        [
         "45A945E964718AA0",
         49400,
         "classic_bike",
         "13296",
         "Ashland Ave & Wrightwood Ave",
         "13146",
         "Clark St & Armitage Ave",
         "2021-07-15T18:08:53Z",
         "2021-07-15T18:23:12Z",
         14.0,
         23.0
        ],
        [
         "B5C228AFC20BD3F0",
         37485,
         "classic_bike",
         "13196",
         "Carpenter St & Huron St",
         "13146",
         "Clark St & Armitage Ave",
         "2021-07-22T18:12:12Z",
         "2021-07-22T18:31:03Z",
         19.0,
         53.0
        ],
        [
         "FB03057FE1489422",
         59834,
         "classic_bike",
         "13146",
         "Clark St & Armitage Ave",
         "13146",
         "Clark St & Armitage Ave",
         "2021-07-17T11:54:50Z",
         "2021-07-17T11:56:37Z",
         2.0,
         33.0
        ],
        [
         "BDE673E69DB2CCDF",
         70883,
         "docked_bike",
         "605",
         "University Library (NU)",
         "605",
         "University Library (NU)",
         "2021-07-20T18:40:16Z",
         "2021-07-20T19:35:39Z",
         55.0,
         26.0
        ],
        [
         "DDD461A1EBFDA30E",
         72862,
         "classic_bike",
         "13146",
         "Clark St & Armitage Ave",
         "13146",
         "Clark St & Armitage Ave",
         "2021-07-10T14:23:05Z",
         "2021-07-10T14:24:57Z",
         2.0,
         31.0
        ]
       ],
       "datasetInfos": [],
       "dbfsResultPath": null,
       "isJsonSchema": true,
       "metadata": {},
       "overflow": false,
       "plotOptions": {
        "customPlotOptions": {},
        "displayType": "table",
        "pivotAggregation": null,
        "pivotColumns": null,
        "xColumns": null,
        "yColumns": null
       },
       "removedWidgets": [],
       "schema": [
        {
         "metadata": "{\"__CHAR_VARCHAR_TYPE_STRING\":\"varchar(50)\"}",
         "name": "trip_id",
         "type": "\"string\""
        },
        {
         "metadata": "{}",
         "name": "rider_id",
         "type": "\"integer\""
        },
        {
         "metadata": "{\"__CHAR_VARCHAR_TYPE_STRING\":\"varchar(20)\"}",
         "name": "rideable_type",
         "type": "\"string\""
        },
        {
         "metadata": "{\"__CHAR_VARCHAR_TYPE_STRING\":\"varchar(50)\"}",
         "name": "start_station_id",
         "type": "\"string\""
        },
        {
         "metadata": "{\"__CHAR_VARCHAR_TYPE_STRING\":\"varchar(150)\"}",
         "name": "start_station_name",
         "type": "\"string\""
        },
        {
         "metadata": "{\"__CHAR_VARCHAR_TYPE_STRING\":\"varchar(50)\"}",
         "name": "end_station_id",
         "type": "\"string\""
        },
        {
         "metadata": "{\"__CHAR_VARCHAR_TYPE_STRING\":\"varchar(150)\"}",
         "name": "end_station_name",
         "type": "\"string\""
        },
        {
         "metadata": "{}",
         "name": "start_time_id",
         "type": "\"timestamp\""
        },
        {
         "metadata": "{}",
         "name": "end_time_id",
         "type": "\"timestamp\""
        },
        {
         "metadata": "{}",
         "name": "duration_in_minutes",
         "type": "\"double\""
        },
        {
         "metadata": "{}",
         "name": "rider_age",
         "type": "\"double\""
        }
       ],
       "type": "table"
      }
     },
     "output_type": "display_data"
    }
   ],
   "source": [
    "from pyspark.sql.functions import col, unix_timestamp, round\n",
    "\n",
    "# First join trips with rider, and then join the result with stations\n",
    "fact_trips = trips.alias(\"t\") \\\n",
    "    .join(rider.alias(\"r\"), col(\"t.rider_id\") == col(\"r.rider_id\"), \"left\") \\\n",
    "    .join(stations.alias(\"s_start\"), col(\"t.start_station_id\") == col(\"s_start.station_id\"), \"left\") \\\n",
    "    .join(stations.alias(\"s_end\"), col(\"t.end_station_id\") == col(\"s_end.station_id\"), \"left\") \\\n",
    "    .withColumn('duration_in_minutes', round((unix_timestamp(col(\"t.ended_at\")) - unix_timestamp(col('t.started_at'))) / 60)) \\\n",
    "    .withColumn('rider_age', round((unix_timestamp(col(\"r.account_start_date\")) - unix_timestamp(col('r.birthday'))) / 3600 / 24 / 365.25)) \\\n",
    "    .withColumn('start_time_id', col('t.started_at')) \\\n",
    "    .withColumn('end_time_id', col('t.ended_at')) \\\n",
    "    .select(\"t.trip_id\", \"t.rider_id\", \"rideable_type\", \n",
    "            \"start_station_id\", col(\"s_start.name\").alias(\"start_station_name\"), \n",
    "            \"end_station_id\", col(\"s_end.name\").alias(\"end_station_name\"),\n",
    "            \"start_time_id\", \"end_time_id\", \"duration_in_minutes\", \"rider_age\")\n",
    "\n",
    "display(fact_trips.limit(10))\n"
   ]
  },
  {
   "cell_type": "code",
   "execution_count": 0,
   "metadata": {
    "application/vnd.databricks.v1+cell": {
     "cellMetadata": {
      "byteLimit": 2048000,
      "rowLimit": 10000
     },
     "collapsed": true,
     "inputWidgets": {},
     "nuid": "c37cd509-0779-4153-862e-fb90d4f02396",
     "showTitle": false,
     "tableResultSettingsMap": {},
     "title": ""
    }
   },
   "outputs": [],
   "source": [
    "# Write data to fact_trip\n",
    "spark.sql(\"drop table if exists default.fact_trip\")\n",
    "fact_trips.write.format(\"delta\").mode(\"overwrite\").saveAsTable(\"default.fact_trip\")"
   ]
  },
  {
   "cell_type": "markdown",
   "metadata": {
    "application/vnd.databricks.v1+cell": {
     "cellMetadata": {},
     "inputWidgets": {},
     "nuid": "ef616ab9-d838-4f58-a8a2-e68b1031221d",
     "showTitle": false,
     "tableResultSettingsMap": {},
     "title": ""
    }
   },
   "source": [
    "# Data Analysis"
   ]
  },
  {
   "cell_type": "markdown",
   "metadata": {
    "application/vnd.databricks.v1+cell": {
     "cellMetadata": {},
     "inputWidgets": {},
     "nuid": "1ea01440-f3f3-4e89-aa1b-fa2cdec0d5d5",
     "showTitle": false,
     "tableResultSettingsMap": {},
     "title": ""
    }
   },
   "source": [
    "### How much time is spent per ride?"
   ]
  },
  {
   "cell_type": "code",
   "execution_count": 0,
   "metadata": {
    "application/vnd.databricks.v1+cell": {
     "cellMetadata": {
      "byteLimit": 2048000,
      "implicitDf": true,
      "rowLimit": 10000
     },
     "inputWidgets": {},
     "nuid": "b2425dec-0387-40ce-b8f7-9df04a5c792c",
     "showTitle": false,
     "tableResultSettingsMap": {},
     "title": ""
    }
   },
   "outputs": [
    {
     "output_type": "display_data",
     "data": {
      "text/html": [
       "<style scoped>\n",
       "  .table-result-container {\n",
       "    max-height: 300px;\n",
       "    overflow: auto;\n",
       "  }\n",
       "  table, th, td {\n",
       "    border: 1px solid black;\n",
       "    border-collapse: collapse;\n",
       "  }\n",
       "  th, td {\n",
       "    padding: 5px;\n",
       "  }\n",
       "  th {\n",
       "    text-align: left;\n",
       "  }\n",
       "</style><div class='table-result-container'><table class='table-result'><thead style='background-color: white'><tr><th>average_ride_duration</th></tr></thead><tbody><tr><td>21.8</td></tr></tbody></table></div>"
      ]
     },
     "metadata": {
      "application/vnd.databricks.v1+output": {
       "addedWidgets": {},
       "aggData": [],
       "aggError": "",
       "aggOverflow": false,
       "aggSchema": [],
       "aggSeriesLimitReached": false,
       "aggType": "",
       "arguments": {},
       "columnCustomDisplayInfos": {},
       "data": [
        [
         21.8
        ]
       ],
       "datasetInfos": [],
       "dbfsResultPath": null,
       "isJsonSchema": true,
       "metadata": {
        "createTempViewForImplicitDf": true,
        "dataframeName": "_sqldf",
        "executionCount": 87
       },
       "overflow": false,
       "plotOptions": {
        "customPlotOptions": {},
        "displayType": "table",
        "pivotAggregation": null,
        "pivotColumns": null,
        "xColumns": null,
        "yColumns": null
       },
       "removedWidgets": [],
       "schema": [
        {
         "metadata": "{}",
         "name": "average_ride_duration",
         "type": "\"double\""
        }
       ],
       "type": "table"
      }
     },
     "output_type": "display_data"
    }
   ],
   "source": [
    "%sql\n",
    "-- On average ride lasts 22 munites\n",
    "select round(avg(t.duration_in_minutes),1) as average_ride_duration\n",
    "from fact_trip t;\n"
   ]
  },
  {
   "cell_type": "code",
   "execution_count": 0,
   "metadata": {
    "application/vnd.databricks.v1+cell": {
     "cellMetadata": {
      "byteLimit": 2048000,
      "implicitDf": true,
      "rowLimit": 10000
     },
     "inputWidgets": {},
     "nuid": "3a4744ac-f263-47e8-8a54-30a6dd986d6d",
     "showTitle": false,
     "tableResultSettingsMap": {},
     "title": ""
    }
   },
   "outputs": [
    {
     "output_type": "display_data",
     "data": {
      "text/html": [
       "<style scoped>\n",
       "  .table-result-container {\n",
       "    max-height: 300px;\n",
       "    overflow: auto;\n",
       "  }\n",
       "  table, th, td {\n",
       "    border: 1px solid black;\n",
       "    border-collapse: collapse;\n",
       "  }\n",
       "  th, td {\n",
       "    padding: 5px;\n",
       "  }\n",
       "  th {\n",
       "    text-align: left;\n",
       "  }\n",
       "</style><div class='table-result-container'><table class='table-result'><thead style='background-color: white'><tr><th>start_station_name</th><th>average_ride_duration_hours</th></tr></thead><tbody><tr><td>Throop St & 52nd St</td><td>9.0</td></tr><tr><td>South Chicago Ave & Elliot Ave</td><td>8.9</td></tr><tr><td>Wabash Ave & 83rd St</td><td>6.8</td></tr><tr><td>Racine Ave & 65th St</td><td>5.9</td></tr><tr><td>Central Ave & Harrison St</td><td>5.3</td></tr></tbody></table></div>"
      ]
     },
     "metadata": {
      "application/vnd.databricks.v1+output": {
       "addedWidgets": {},
       "aggData": [],
       "aggError": "",
       "aggOverflow": false,
       "aggSchema": [],
       "aggSeriesLimitReached": false,
       "aggType": "",
       "arguments": {},
       "columnCustomDisplayInfos": {},
       "data": [
        [
         "Throop St & 52nd St",
         9.0
        ],
        [
         "South Chicago Ave & Elliot Ave",
         8.9
        ],
        [
         "Wabash Ave & 83rd St",
         6.8
        ],
        [
         "Racine Ave & 65th St",
         5.9
        ],
        [
         "Central Ave & Harrison St",
         5.3
        ]
       ],
       "datasetInfos": [],
       "dbfsResultPath": null,
       "isJsonSchema": true,
       "metadata": {
        "createTempViewForImplicitDf": true,
        "dataframeName": "_sqldf",
        "executionCount": 23
       },
       "overflow": false,
       "plotOptions": {
        "customPlotOptions": {},
        "displayType": "table",
        "pivotAggregation": null,
        "pivotColumns": null,
        "xColumns": null,
        "yColumns": null
       },
       "removedWidgets": [],
       "schema": [
        {
         "metadata": "{\"__CHAR_VARCHAR_TYPE_STRING\":\"varchar(150)\"}",
         "name": "start_station_name",
         "type": "\"string\""
        },
        {
         "metadata": "{}",
         "name": "average_ride_duration_hours",
         "type": "\"double\""
        }
       ],
       "type": "table"
      }
     },
     "output_type": "display_data"
    }
   ],
   "source": [
    "%sql\n",
    "-- On average ride by different starting station. There is a big difference in average ride duration between stations with Throop St & 52nd St having the average duration of 9 hours\n",
    "select t.start_station_name,\n",
    "       round(avg(t.duration_in_minutes) / 60, 1) as average_ride_duration_hours\n",
    "from research_databricks_workspace.default.fact_trip t\n",
    "group by t.start_station_name\n",
    "order by average_ride_duration_hours desc\n",
    "limit 5;"
   ]
  },
  {
   "cell_type": "code",
   "execution_count": 0,
   "metadata": {
    "application/vnd.databricks.v1+cell": {
     "cellMetadata": {
      "byteLimit": 2048000,
      "implicitDf": true,
      "rowLimit": 10000
     },
     "inputWidgets": {},
     "nuid": "4d28b5d7-167a-4e47-b8e9-a723e2d27009",
     "showTitle": false,
     "tableResultSettingsMap": {},
     "title": ""
    }
   },
   "outputs": [
    {
     "output_type": "display_data",
     "data": {
      "text/html": [
       "<style scoped>\n",
       "  .table-result-container {\n",
       "    max-height: 300px;\n",
       "    overflow: auto;\n",
       "  }\n",
       "  table, th, td {\n",
       "    border: 1px solid black;\n",
       "    border-collapse: collapse;\n",
       "  }\n",
       "  th, td {\n",
       "    padding: 5px;\n",
       "  }\n",
       "  th {\n",
       "    text-align: left;\n",
       "  }\n",
       "</style><div class='table-result-container'><table class='table-result'><thead style='background-color: white'><tr><th>rider_age_group</th><th>average_ride_duration_munutes</th></tr></thead><tbody><tr><td>under 19</td><td>21.7</td></tr><tr><td>50+</td><td>21.4</td></tr><tr><td>40-49</td><td>21.4</td></tr><tr><td>30-39</td><td>21.9</td></tr><tr><td>19-29</td><td>22.0</td></tr></tbody></table></div>"
      ]
     },
     "metadata": {
      "application/vnd.databricks.v1+output": {
       "addedWidgets": {},
       "aggData": [],
       "aggError": "",
       "aggOverflow": false,
       "aggSchema": [],
       "aggSeriesLimitReached": false,
       "aggType": "",
       "arguments": {},
       "columnCustomDisplayInfos": {},
       "data": [
        [
         "under 19",
         21.7
        ],
        [
         "50+",
         21.4
        ],
        [
         "40-49",
         21.4
        ],
        [
         "30-39",
         21.9
        ],
        [
         "19-29",
         22.0
        ]
       ],
       "datasetInfos": [],
       "dbfsResultPath": null,
       "isJsonSchema": true,
       "metadata": {
        "createTempViewForImplicitDf": true,
        "dataframeName": "_sqldf",
        "executionCount": 73
       },
       "overflow": false,
       "plotOptions": {
        "customPlotOptions": {},
        "displayType": "table",
        "pivotAggregation": null,
        "pivotColumns": null,
        "xColumns": null,
        "yColumns": null
       },
       "removedWidgets": [],
       "schema": [
        {
         "metadata": "{}",
         "name": "rider_age_group",
         "type": "\"string\""
        },
        {
         "metadata": "{}",
         "name": "average_ride_duration_munutes",
         "type": "\"double\""
        }
       ],
       "type": "table"
      }
     },
     "output_type": "display_data"
    }
   ],
   "source": [
    "%sql\n",
    "-- Riders aged between 19-29 have the longest average ride duration\n",
    "select case when t.rider_age < 19 then 'under 19' when t.rider_age < 30 then '19-29' when t.rider_age < 40 then '30-39' when t.rider_age < 50 then '40-49' else '50+' end as rider_age_group,\n",
    "round(avg(t.duration_in_minutes),1) as average_ride_duration_munutes\n",
    "from fact_trip t\n",
    "group by rider_age_group\n",
    "order by rider_age_group desc;"
   ]
  },
  {
   "cell_type": "code",
   "execution_count": 0,
   "metadata": {
    "application/vnd.databricks.v1+cell": {
     "cellMetadata": {
      "byteLimit": 2048000,
      "implicitDf": true,
      "rowLimit": 10000
     },
     "inputWidgets": {},
     "nuid": "e5ca76b3-cfa0-454a-8ab1-c844c1121786",
     "showTitle": false,
     "tableResultSettingsMap": {},
     "title": ""
    }
   },
   "outputs": [
    {
     "output_type": "display_data",
     "data": {
      "text/html": [
       "<style scoped>\n",
       "  .table-result-container {\n",
       "    max-height: 300px;\n",
       "    overflow: auto;\n",
       "  }\n",
       "  table, th, td {\n",
       "    border: 1px solid black;\n",
       "    border-collapse: collapse;\n",
       "  }\n",
       "  th, td {\n",
       "    padding: 5px;\n",
       "  }\n",
       "  th {\n",
       "    text-align: left;\n",
       "  }\n",
       "</style><div class='table-result-container'><table class='table-result'><thead style='background-color: white'><tr><th>is_member</th><th>average_ride_duration_munutes</th></tr></thead><tbody><tr><td>true</td><td>21.9</td></tr><tr><td>false</td><td>21.3</td></tr></tbody></table></div>"
      ]
     },
     "metadata": {
      "application/vnd.databricks.v1+output": {
       "addedWidgets": {},
       "aggData": [],
       "aggError": "",
       "aggOverflow": false,
       "aggSchema": [],
       "aggSeriesLimitReached": false,
       "aggType": "",
       "arguments": {},
       "columnCustomDisplayInfos": {},
       "data": [
        [
         true,
         21.9
        ],
        [
         false,
         21.3
        ]
       ],
       "datasetInfos": [],
       "dbfsResultPath": null,
       "isJsonSchema": true,
       "metadata": {
        "createTempViewForImplicitDf": true,
        "dataframeName": "_sqldf",
        "executionCount": 89
       },
       "overflow": false,
       "plotOptions": {
        "customPlotOptions": {},
        "displayType": "table",
        "pivotAggregation": null,
        "pivotColumns": null,
        "xColumns": null,
        "yColumns": null
       },
       "removedWidgets": [],
       "schema": [
        {
         "metadata": "{}",
         "name": "is_member",
         "type": "\"boolean\""
        },
        {
         "metadata": "{}",
         "name": "average_ride_duration_munutes",
         "type": "\"double\""
        }
       ],
       "type": "table"
      }
     },
     "output_type": "display_data"
    }
   ],
   "source": [
    "%sql\n",
    "-- Members have longer average ride duration than non-members\n",
    "select r.is_member, \n",
    "round(avg(t.duration_in_minutes),1) as average_ride_duration_munutes\n",
    "from fact_trip t join dim_rider r on t.rider_id = r.rider_id\n",
    "group by r.is_member \n",
    "order by average_ride_duration_munutes desc;"
   ]
  },
  {
   "cell_type": "markdown",
   "metadata": {
    "application/vnd.databricks.v1+cell": {
     "cellMetadata": {},
     "inputWidgets": {},
     "nuid": "6db099e0-0225-440d-85dc-94e2a5f82fe9",
     "showTitle": false,
     "tableResultSettingsMap": {},
     "title": ""
    }
   },
   "source": [
    "## How much money is spent?"
   ]
  },
  {
   "cell_type": "code",
   "execution_count": 0,
   "metadata": {
    "application/vnd.databricks.v1+cell": {
     "cellMetadata": {
      "byteLimit": 2048000,
      "implicitDf": true,
      "rowLimit": 10000
     },
     "inputWidgets": {},
     "nuid": "b39acadf-fb3b-44a8-bfb4-778cc2d0e779",
     "showTitle": false,
     "tableResultSettingsMap": {},
     "title": ""
    }
   },
   "outputs": [
    {
     "output_type": "display_data",
     "data": {
      "text/html": [
       "<style scoped>\n",
       "  .table-result-container {\n",
       "    max-height: 300px;\n",
       "    overflow: auto;\n",
       "  }\n",
       "  table, th, td {\n",
       "    border: 1px solid black;\n",
       "    border-collapse: collapse;\n",
       "  }\n",
       "  th, td {\n",
       "    padding: 5px;\n",
       "  }\n",
       "  th {\n",
       "    text-align: left;\n",
       "  }\n",
       "</style><div class='table-result-container'><table class='table-result'><thead style='background-color: white'><tr><th>total_revenue</th></tr></thead><tbody><tr><td>19,457,105.25</td></tr></tbody></table></div>"
      ]
     },
     "metadata": {
      "application/vnd.databricks.v1+output": {
       "addedWidgets": {},
       "aggData": [],
       "aggError": "",
       "aggOverflow": false,
       "aggSchema": [],
       "aggSeriesLimitReached": false,
       "aggType": "",
       "arguments": {},
       "columnCustomDisplayInfos": {},
       "data": [
        [
         "19,457,105.25"
        ]
       ],
       "datasetInfos": [],
       "dbfsResultPath": null,
       "isJsonSchema": true,
       "metadata": {
        "createTempViewForImplicitDf": true,
        "dataframeName": "_sqldf",
        "executionCount": 93
       },
       "overflow": false,
       "plotOptions": {
        "customPlotOptions": {},
        "displayType": "table",
        "pivotAggregation": null,
        "pivotColumns": null,
        "xColumns": null,
        "yColumns": null
       },
       "removedWidgets": [],
       "schema": [
        {
         "metadata": "{}",
         "name": "total_revenue",
         "type": "\"string\""
        }
       ],
       "type": "table"
      }
     },
     "output_type": "display_data"
    }
   ],
   "source": [
    "%sql\n",
    "-- Overall $19,457,105.25 in revenue was generated\n",
    "SELECT FORMAT_NUMBER(SUM(payment_amount), 2) AS total_revenue\n",
    "FROM fact_payment p\n",
    "JOIN dim_date d\n",
    "ON p.payment_date = d.datetime_id;\n"
   ]
  },
  {
   "cell_type": "code",
   "execution_count": 0,
   "metadata": {
    "application/vnd.databricks.v1+cell": {
     "cellMetadata": {
      "byteLimit": 2048000,
      "implicitDf": true,
      "rowLimit": 10000
     },
     "inputWidgets": {},
     "nuid": "dbb96043-c5af-4d8e-ade3-55b096e48125",
     "showTitle": false,
     "tableResultSettingsMap": {},
     "title": ""
    }
   },
   "outputs": [
    {
     "output_type": "display_data",
     "data": {
      "text/html": [
       "<style scoped>\n",
       "  .table-result-container {\n",
       "    max-height: 300px;\n",
       "    overflow: auto;\n",
       "  }\n",
       "  table, th, td {\n",
       "    border: 1px solid black;\n",
       "    border-collapse: collapse;\n",
       "  }\n",
       "  th, td {\n",
       "    padding: 5px;\n",
       "  }\n",
       "  th {\n",
       "    text-align: left;\n",
       "  }\n",
       "</style><div class='table-result-container'><table class='table-result'><thead style='background-color: white'><tr><th>calendar_year</th><th>total_revenue</th></tr></thead><tbody><tr><td>2013</td><td>53,693.34</td></tr><tr><td>2014</td><td>227,402.95</td></tr><tr><td>2015</td><td>477,233.22</td></tr><tr><td>2016</td><td>825,120.81</td></tr><tr><td>2017</td><td>1,308,372.54</td></tr><tr><td>2018</td><td>2,000,105.50</td></tr><tr><td>2019</td><td>2,978,658.79</td></tr><tr><td>2020</td><td>4,315,449.40</td></tr><tr><td>2021</td><td>6,081,098.25</td></tr><tr><td>2022</td><td>1,189,970.45</td></tr></tbody></table></div>"
      ]
     },
     "metadata": {
      "application/vnd.databricks.v1+output": {
       "addedWidgets": {},
       "aggData": [],
       "aggError": "",
       "aggOverflow": false,
       "aggSchema": [],
       "aggSeriesLimitReached": false,
       "aggType": "",
       "arguments": {},
       "columnCustomDisplayInfos": {},
       "data": [
        [
         2013,
         "53,693.34"
        ],
        [
         2014,
         "227,402.95"
        ],
        [
         2015,
         "477,233.22"
        ],
        [
         2016,
         "825,120.81"
        ],
        [
         2017,
         "1,308,372.54"
        ],
        [
         2018,
         "2,000,105.50"
        ],
        [
         2019,
         "2,978,658.79"
        ],
        [
         2020,
         "4,315,449.40"
        ],
        [
         2021,
         "6,081,098.25"
        ],
        [
         2022,
         "1,189,970.45"
        ]
       ],
       "datasetInfos": [],
       "dbfsResultPath": null,
       "isJsonSchema": true,
       "metadata": {
        "createTempViewForImplicitDf": true,
        "dataframeName": "_sqldf",
        "executionCount": 107
       },
       "overflow": false,
       "plotOptions": {
        "customPlotOptions": {},
        "displayType": "table",
        "pivotAggregation": null,
        "pivotColumns": null,
        "xColumns": null,
        "yColumns": null
       },
       "removedWidgets": [],
       "schema": [
        {
         "metadata": "{}",
         "name": "calendar_year",
         "type": "\"integer\""
        },
        {
         "metadata": "{}",
         "name": "total_revenue",
         "type": "\"string\""
        }
       ],
       "type": "table"
      }
     },
     "output_type": "display_data"
    }
   ],
   "source": [
    "%sql\n",
    "-- It appears that revenue trend is on the rise overtime.  The dip in 2022 is due to the fact that only two month of the year are included.\n",
    "SELECT d.calendar_year, FORMAT_NUMBER(SUM(payment_amount), 2) AS total_revenue\n",
    "FROM fact_payment p join dim_date d on p.payment_date = d.datetime_id\n",
    "group by d.calendar_year\n",
    "order by d.calendar_year;"
   ]
  },
  {
   "cell_type": "code",
   "execution_count": 0,
   "metadata": {
    "application/vnd.databricks.v1+cell": {
     "cellMetadata": {
      "byteLimit": 2048000,
      "implicitDf": true,
      "rowLimit": 10000
     },
     "inputWidgets": {},
     "nuid": "4a22f2fb-b8ad-41e0-98d9-628704488167",
     "showTitle": false,
     "tableResultSettingsMap": {},
     "title": ""
    }
   },
   "outputs": [
    {
     "output_type": "display_data",
     "data": {
      "text/html": [
       "<style scoped>\n",
       "  .table-result-container {\n",
       "    max-height: 300px;\n",
       "    overflow: auto;\n",
       "  }\n",
       "  table, th, td {\n",
       "    border: 1px solid black;\n",
       "    border-collapse: collapse;\n",
       "  }\n",
       "  th, td {\n",
       "    padding: 5px;\n",
       "  }\n",
       "  th {\n",
       "    text-align: left;\n",
       "  }\n",
       "</style><div class='table-result-container'><table class='table-result'><thead style='background-color: white'><tr><th>calendar_year</th><th>calendar_quarter</th><th>total_revenue</th></tr></thead><tbody><tr><td>2021</td><td>1</td><td>1,341,105.60</td></tr><tr><td>2021</td><td>2</td><td>1,457,677.56</td></tr><tr><td>2021</td><td>3</td><td>1,581,287.96</td></tr><tr><td>2021</td><td>4</td><td>1,701,027.13</td></tr></tbody></table></div>"
      ]
     },
     "metadata": {
      "application/vnd.databricks.v1+output": {
       "addedWidgets": {},
       "aggData": [],
       "aggError": "",
       "aggOverflow": false,
       "aggSchema": [],
       "aggSeriesLimitReached": false,
       "aggType": "",
       "arguments": {},
       "columnCustomDisplayInfos": {},
       "data": [
        [
         2021,
         1,
         "1,341,105.60"
        ],
        [
         2021,
         2,
         "1,457,677.56"
        ],
        [
         2021,
         3,
         "1,581,287.96"
        ],
        [
         2021,
         4,
         "1,701,027.13"
        ]
       ],
       "datasetInfos": [],
       "dbfsResultPath": null,
       "isJsonSchema": true,
       "metadata": {
        "createTempViewForImplicitDf": true,
        "dataframeName": "_sqldf",
        "executionCount": 109
       },
       "overflow": false,
       "plotOptions": {
        "customPlotOptions": {},
        "displayType": "table",
        "pivotAggregation": null,
        "pivotColumns": null,
        "xColumns": null,
        "yColumns": null
       },
       "removedWidgets": [],
       "schema": [
        {
         "metadata": "{}",
         "name": "calendar_year",
         "type": "\"integer\""
        },
        {
         "metadata": "{}",
         "name": "calendar_quarter",
         "type": "\"integer\""
        },
        {
         "metadata": "{}",
         "name": "total_revenue",
         "type": "\"string\""
        }
       ],
       "type": "table"
      }
     },
     "output_type": "display_data"
    }
   ],
   "source": [
    "%sql\n",
    "-- in 2021 the highest revenue was generated in Q4\n",
    "SELECT d.calendar_year, d.calendar_quarter, FORMAT_NUMBER(SUM(payment_amount), 2) AS total_revenue\n",
    "FROM fact_payment p join dim_date d on p.payment_date = d.datetime_id\n",
    "where d.calendar_year = 2021\n",
    "group by d.calendar_year, d.calendar_quarter\n",
    "order by d.calendar_quarter;"
   ]
  },
  {
   "cell_type": "code",
   "execution_count": 0,
   "metadata": {
    "application/vnd.databricks.v1+cell": {
     "cellMetadata": {
      "byteLimit": 2048000,
      "implicitDf": true,
      "rowLimit": 10000
     },
     "inputWidgets": {},
     "nuid": "57b7ca43-2db8-4a48-aacb-f2020cffe8fd",
     "showTitle": false,
     "tableResultSettingsMap": {},
     "title": ""
    }
   },
   "outputs": [
    {
     "output_type": "display_data",
     "data": {
      "text/html": [
       "<style scoped>\n",
       "  .table-result-container {\n",
       "    max-height: 300px;\n",
       "    overflow: auto;\n",
       "  }\n",
       "  table, th, td {\n",
       "    border: 1px solid black;\n",
       "    border-collapse: collapse;\n",
       "  }\n",
       "  th, td {\n",
       "    padding: 5px;\n",
       "  }\n",
       "  th {\n",
       "    text-align: left;\n",
       "  }\n",
       "</style><div class='table-result-container'><table class='table-result'><thead style='background-color: white'><tr><th>calendar_year</th><th>calendar_month_name</th><th>total_revenue</th></tr></thead><tbody><tr><td>2021</td><td>April</td><td>471,751.66</td></tr><tr><td>2021</td><td>August</td><td>527,280.76</td></tr><tr><td>2021</td><td>December</td><td>579,229.92</td></tr><tr><td>2021</td><td>February</td><td>447,430.37</td></tr><tr><td>2021</td><td>January</td><td>434,891.06</td></tr><tr><td>2021</td><td>July</td><td>513,013.67</td></tr><tr><td>2021</td><td>June</td><td>500,206.65</td></tr><tr><td>2021</td><td>March</td><td>458,784.17</td></tr><tr><td>2021</td><td>May</td><td>485,719.25</td></tr><tr><td>2021</td><td>November</td><td>566,140.61</td></tr><tr><td>2021</td><td>October</td><td>555,656.60</td></tr><tr><td>2021</td><td>September</td><td>540,993.53</td></tr></tbody></table></div>"
      ]
     },
     "metadata": {
      "application/vnd.databricks.v1+output": {
       "addedWidgets": {},
       "aggData": [],
       "aggError": "",
       "aggOverflow": false,
       "aggSchema": [],
       "aggSeriesLimitReached": false,
       "aggType": "",
       "arguments": {},
       "columnCustomDisplayInfos": {},
       "data": [
        [
         2021,
         "April",
         "471,751.66"
        ],
        [
         2021,
         "August",
         "527,280.76"
        ],
        [
         2021,
         "December",
         "579,229.92"
        ],
        [
         2021,
         "February",
         "447,430.37"
        ],
        [
         2021,
         "January",
         "434,891.06"
        ],
        [
         2021,
         "July",
         "513,013.67"
        ],
        [
         2021,
         "June",
         "500,206.65"
        ],
        [
         2021,
         "March",
         "458,784.17"
        ],
        [
         2021,
         "May",
         "485,719.25"
        ],
        [
         2021,
         "November",
         "566,140.61"
        ],
        [
         2021,
         "October",
         "555,656.60"
        ],
        [
         2021,
         "September",
         "540,993.53"
        ]
       ],
       "datasetInfos": [],
       "dbfsResultPath": null,
       "isJsonSchema": true,
       "metadata": {
        "createTempViewForImplicitDf": true,
        "dataframeName": "_sqldf",
        "executionCount": 111
       },
       "overflow": false,
       "plotOptions": {
        "customPlotOptions": {},
        "displayType": "table",
        "pivotAggregation": null,
        "pivotColumns": null,
        "xColumns": null,
        "yColumns": null
       },
       "removedWidgets": [],
       "schema": [
        {
         "metadata": "{}",
         "name": "calendar_year",
         "type": "\"integer\""
        },
        {
         "metadata": "{}",
         "name": "calendar_month_name",
         "type": "\"string\""
        },
        {
         "metadata": "{}",
         "name": "total_revenue",
         "type": "\"string\""
        }
       ],
       "type": "table"
      }
     },
     "output_type": "display_data"
    }
   ],
   "source": [
    "%sql\n",
    "-- in 2021 the highest revenue was in December month\n",
    "SELECT d.calendar_year,  d.calendar_month_name, \n",
    "      FORMAT_NUMBER(SUM(payment_amount), 2) AS total_revenue\n",
    "FROM fact_payment p \n",
    "JOIN dim_date d \n",
    "ON p.payment_date = d.datetime_id\n",
    "WHERE d.calendar_year = 2021\n",
    "GROUP BY d.calendar_year,  d.calendar_month_name  \n",
    "ORDER BY d.calendar_month_name;"
   ]
  },
  {
   "cell_type": "code",
   "execution_count": 0,
   "metadata": {
    "application/vnd.databricks.v1+cell": {
     "cellMetadata": {
      "byteLimit": 2048000,
      "implicitDf": true,
      "rowLimit": 10000
     },
     "inputWidgets": {},
     "nuid": "5bb88825-b166-4488-9b3e-605378f2b2d4",
     "showTitle": false,
     "tableResultSettingsMap": {},
     "title": ""
    }
   },
   "outputs": [
    {
     "output_type": "display_data",
     "data": {
      "text/html": [
       "<style scoped>\n",
       "  .table-result-container {\n",
       "    max-height: 300px;\n",
       "    overflow: auto;\n",
       "  }\n",
       "  table, th, td {\n",
       "    border: 1px solid black;\n",
       "    border-collapse: collapse;\n",
       "  }\n",
       "  th, td {\n",
       "    padding: 5px;\n",
       "  }\n",
       "  th {\n",
       "    text-align: left;\n",
       "  }\n",
       "</style><div class='table-result-container'><table class='table-result'><thead style='background-color: white'><tr><th>rider_id</th><th>rider_age_at_payment</th><th>total_payment</th></tr></thead><tbody><tr><td>65089</td><td>27</td><td>1658.83</td></tr><tr><td>63569</td><td>14</td><td>1608.30</td></tr><tr><td>11368</td><td>10</td><td>1600.90</td></tr><tr><td>19270</td><td>30</td><td>1594.47</td></tr><tr><td>39136</td><td>11</td><td>1586.01</td></tr></tbody></table></div>"
      ]
     },
     "metadata": {
      "application/vnd.databricks.v1+output": {
       "addedWidgets": {},
       "aggData": [],
       "aggError": "",
       "aggOverflow": false,
       "aggSchema": [],
       "aggSeriesLimitReached": false,
       "aggType": "",
       "arguments": {},
       "columnCustomDisplayInfos": {},
       "data": [
        [
         65089,
         27,
         "1658.83"
        ],
        [
         63569,
         14,
         "1608.30"
        ],
        [
         11368,
         10,
         "1600.90"
        ],
        [
         19270,
         30,
         "1594.47"
        ],
        [
         39136,
         11,
         "1586.01"
        ]
       ],
       "datasetInfos": [],
       "dbfsResultPath": null,
       "isJsonSchema": true,
       "metadata": {
        "createTempViewForImplicitDf": true,
        "dataframeName": "_sqldf",
        "executionCount": 15
       },
       "overflow": false,
       "plotOptions": {
        "customPlotOptions": {},
        "displayType": "table",
        "pivotAggregation": null,
        "pivotColumns": null,
        "xColumns": null,
        "yColumns": null
       },
       "removedWidgets": [],
       "schema": [
        {
         "metadata": "{}",
         "name": "rider_id",
         "type": "\"long\""
        },
        {
         "metadata": "{}",
         "name": "rider_age_at_payment",
         "type": "\"long\""
        },
        {
         "metadata": "{}",
         "name": "total_payment",
         "type": "\"decimal(20,2)\""
        }
       ],
       "type": "table"
      }
     },
     "output_type": "display_data"
    }
   ],
   "source": [
    "%sql\n",
    "-- Revenue by age at account start. It appears that the highest amount paid was by a rider who was 27 years of age at the time of account start\n",
    "SELECT \n",
    "    p.rider_id, \n",
    "    FLOOR(DATEDIFF(r.account_start_date, r.birthday) / 365) AS rider_age_at_payment, \n",
    "    SUM(payment_amount) AS total_payment\n",
    "FROM \n",
    "    research_databricks_workspace.default.fact_payment p \n",
    "JOIN \n",
    "    research_databricks_workspace.default.dim_rider r \n",
    "ON \n",
    "    p.rider_id = r.rider_id \n",
    "GROUP BY \n",
    "    p.rider_id, \n",
    "    FLOOR(DATEDIFF(r.account_start_date, r.birthday) / 365)\n",
    "ORDER BY \n",
    "    total_payment DESC\n",
    "LIMIT 5;"
   ]
  },
  {
   "cell_type": "markdown",
   "metadata": {
    "application/vnd.databricks.v1+cell": {
     "cellMetadata": {},
     "inputWidgets": {},
     "nuid": "6c58ebf7-5dfb-403c-84eb-2d808fa2991d",
     "showTitle": false,
     "tableResultSettingsMap": {},
     "title": ""
    }
   },
   "source": [
    "## Extra Credit"
   ]
  },
  {
   "cell_type": "code",
   "execution_count": 0,
   "metadata": {
    "application/vnd.databricks.v1+cell": {
     "cellMetadata": {
      "byteLimit": 2048000,
      "implicitDf": true,
      "rowLimit": 10000
     },
     "inputWidgets": {},
     "nuid": "9b2a9ac3-6638-4a72-a619-02b704c5e097",
     "showTitle": false,
     "tableResultSettingsMap": {},
     "title": ""
    }
   },
   "outputs": [
    {
     "output_type": "display_data",
     "data": {
      "text/html": [
       "<style scoped>\n",
       "  .table-result-container {\n",
       "    max-height: 300px;\n",
       "    overflow: auto;\n",
       "  }\n",
       "  table, th, td {\n",
       "    border: 1px solid black;\n",
       "    border-collapse: collapse;\n",
       "  }\n",
       "  th, td {\n",
       "    padding: 5px;\n",
       "  }\n",
       "  th {\n",
       "    text-align: left;\n",
       "  }\n",
       "</style><div class='table-result-container'><table class='table-result'><thead style='background-color: white'><tr><th>rider_id</th><th>trip_count_per_month</th><th>total_payment</th></tr></thead><tbody><tr><td>34484</td><td>13</td><td>567.00</td></tr><tr><td>14308</td><td>11</td><td>607.65</td></tr><tr><td>4694</td><td>4</td><td>162.00</td></tr><tr><td>33135</td><td>22</td><td>432.00</td></tr><tr><td>62350</td><td>17</td><td>252.00</td></tr></tbody></table></div>"
      ]
     },
     "metadata": {
      "application/vnd.databricks.v1+output": {
       "addedWidgets": {},
       "aggData": [],
       "aggError": "",
       "aggOverflow": false,
       "aggSchema": [],
       "aggSeriesLimitReached": false,
       "aggType": "",
       "arguments": {},
       "columnCustomDisplayInfos": {},
       "data": [
        [
         34484,
         13,
         "567.00"
        ],
        [
         14308,
         11,
         "607.65"
        ],
        [
         4694,
         4,
         "162.00"
        ],
        [
         33135,
         22,
         "432.00"
        ],
        [
         62350,
         17,
         "252.00"
        ]
       ],
       "datasetInfos": [],
       "dbfsResultPath": null,
       "isJsonSchema": true,
       "metadata": {
        "createTempViewForImplicitDf": true,
        "dataframeName": "_sqldf",
        "executionCount": 17
       },
       "overflow": false,
       "plotOptions": {
        "customPlotOptions": {},
        "displayType": "table",
        "pivotAggregation": null,
        "pivotColumns": null,
        "xColumns": null,
        "yColumns": null
       },
       "removedWidgets": [],
       "schema": [
        {
         "metadata": "{}",
         "name": "rider_id",
         "type": "\"integer\""
        },
        {
         "metadata": "{}",
         "name": "trip_count_per_month",
         "type": "\"long\""
        },
        {
         "metadata": "{}",
         "name": "total_payment",
         "type": "\"decimal(20,2)\""
        }
       ],
       "type": "table"
      }
     },
     "output_type": "display_data"
    }
   ],
   "source": [
    "%sql\n",
    "-- Revenue by rider and trip count by month\n",
    "WITH trip_count AS (\n",
    "    SELECT \n",
    "        t.rider_id, \n",
    "        ds.calendar_month_name AS month_name, \n",
    "        ds.calendar_year,\n",
    "        COUNT(t.trip_id) AS trip_count\n",
    "    FROM research_databricks_workspace.default.fact_trip t\n",
    "    JOIN research_databricks_workspace.default.dim_date ds \n",
    "        ON t.start_time_id = ds.datetime_id\n",
    "    GROUP BY t.rider_id, ds.calendar_month_name, ds.calendar_year\n",
    ")\n",
    "SELECT \n",
    "    t.rider_id, \n",
    "    t.trip_count as trip_count_per_month, \n",
    "    SUM(p.payment_amount) AS total_payment\n",
    "FROM research_databricks_workspace.default.fact_payment p \n",
    "JOIN trip_count t \n",
    "    ON p.rider_id = t.rider_id\n",
    "GROUP BY t.rider_id, t.trip_count\n",
    "LIMIT 5;"
   ]
  },
  {
   "cell_type": "code",
   "execution_count": 0,
   "metadata": {
    "application/vnd.databricks.v1+cell": {
     "cellMetadata": {
      "byteLimit": 2048000,
      "implicitDf": true,
      "rowLimit": 10000
     },
     "inputWidgets": {},
     "nuid": "973818ae-d699-4d93-8aed-9222465de4c3",
     "showTitle": false,
     "tableResultSettingsMap": {},
     "title": ""
    }
   },
   "outputs": [
    {
     "output_type": "display_data",
     "data": {
      "text/html": [
       "<style scoped>\n",
       "  .table-result-container {\n",
       "    max-height: 300px;\n",
       "    overflow: auto;\n",
       "  }\n",
       "  table, th, td {\n",
       "    border: 1px solid black;\n",
       "    border-collapse: collapse;\n",
       "  }\n",
       "  th, td {\n",
       "    padding: 5px;\n",
       "  }\n",
       "  th {\n",
       "    text-align: left;\n",
       "  }\n",
       "</style><div class='table-result-container'><table class='table-result'><thead style='background-color: white'><tr><th>rider_id</th><th>calendar_month</th><th>calendar_year</th><th>total_minutes_ride</th></tr></thead><tbody><tr><td>58321</td><td>7</td><td>2021</td><td>253.0</td></tr><tr><td>49393</td><td>7</td><td>2021</td><td>222.0</td></tr><tr><td>29656</td><td>7</td><td>2021</td><td>736.0</td></tr><tr><td>18346</td><td>7</td><td>2021</td><td>1671.0</td></tr><tr><td>61581</td><td>7</td><td>2021</td><td>9931.0</td></tr></tbody></table></div>"
      ]
     },
     "metadata": {
      "application/vnd.databricks.v1+output": {
       "addedWidgets": {},
       "aggData": [],
       "aggError": "",
       "aggOverflow": false,
       "aggSchema": [],
       "aggSeriesLimitReached": false,
       "aggType": "",
       "arguments": {},
       "columnCustomDisplayInfos": {},
       "data": [
        [
         58321,
         7,
         2021,
         253.0
        ],
        [
         49393,
         7,
         2021,
         222.0
        ],
        [
         29656,
         7,
         2021,
         736.0
        ],
        [
         18346,
         7,
         2021,
         1671.0
        ],
        [
         61581,
         7,
         2021,
         9931.0
        ]
       ],
       "datasetInfos": [],
       "dbfsResultPath": null,
       "isJsonSchema": true,
       "metadata": {
        "createTempViewForImplicitDf": true,
        "dataframeName": "_sqldf",
        "executionCount": 21
       },
       "overflow": false,
       "plotOptions": {
        "customPlotOptions": {},
        "displayType": "table",
        "pivotAggregation": null,
        "pivotColumns": null,
        "xColumns": null,
        "yColumns": null
       },
       "removedWidgets": [],
       "schema": [
        {
         "metadata": "{}",
         "name": "rider_id",
         "type": "\"integer\""
        },
        {
         "metadata": "{}",
         "name": "calendar_month",
         "type": "\"integer\""
        },
        {
         "metadata": "{}",
         "name": "calendar_year",
         "type": "\"integer\""
        },
        {
         "metadata": "{}",
         "name": "total_minutes_ride",
         "type": "\"double\""
        }
       ],
       "type": "table"
      }
     },
     "output_type": "display_data"
    }
   ],
   "source": [
    "%sql\n",
    "-- Based on how many minutes the rider spends on a bike per month\n",
    "select t.rider_id, dt.calendar_month, dt.calendar_year, sum(t.duration_in_minutes) as total_minutes_ride\n",
    "from research_databricks_workspace.default.fact_trip t \n",
    "join research_databricks_workspace.default.dim_date dt \n",
    "on t.start_time_id = dt.datetime_id\n",
    "group by \n",
    "t.rider_id, dt.calendar_month, dt.calendar_year\n",
    "limit 5\n",
    ";"
   ]
  }
 ],
 "metadata": {
  "application/vnd.databricks.v1+notebook": {
   "dashboards": [],
   "environmentMetadata": {
    "base_environment": "",
    "client": "1"
   },
   "language": "python",
   "notebookMetadata": {
    "mostRecentlyExecutedCommandWithImplicitDF": {
     "commandId": 2018005462007450,
     "dataframes": [
      "_sqldf"
     ]
    },
    "pythonIndentUnit": 2
   },
   "notebookName": "Bikeshare Data Lakehouse Code",
   "widgets": {}
  },
  "language_info": {
   "name": "python"
  }
 },
 "nbformat": 4,
 "nbformat_minor": 0
}